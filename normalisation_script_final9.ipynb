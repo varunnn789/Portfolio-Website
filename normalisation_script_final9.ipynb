{
 "cells": [
  {
   "cell_type": "markdown",
   "metadata": {},
   "source": [
    "# EAS503 Final Project - Varun Singh"
   ]
  },
  {
   "cell_type": "markdown",
   "metadata": {},
   "source": [
    "Import Statements"
   ]
  },
  {
   "cell_type": "code",
   "execution_count": 1,
   "metadata": {},
   "outputs": [],
   "source": [
    "import sqlite3\n",
    "import os\n",
    "import pandas as pd\n",
    "import matplotlib.pyplot as plt\n",
    "import seaborn as sns\n",
    "import numpy as np\n",
    "from scipy.stats import chi2_contingency\n",
    "from sklearn.feature_selection import mutual_info_classif\n",
    "from ydata_profiling import ProfileReport\n",
    "from imblearn.under_sampling import RandomUnderSampler\n",
    "import warnings\n",
    "warnings.filterwarnings(\"ignore\")\n",
    "import mlflow\n",
    "from sklearn.model_selection import train_test_split, cross_val_score, cross_validate, GridSearchCV\n",
    "from sklearn.pipeline import Pipeline\n",
    "from sklearn.compose import ColumnTransformer\n",
    "from sklearn.preprocessing import StandardScaler, MinMaxScaler, OneHotEncoder, FunctionTransformer\n",
    "from sklearn.linear_model import LogisticRegression\n",
    "from sklearn.metrics import f1_score, confusion_matrix, make_scorer\n",
    "import mlflow.sklearn"
   ]
  },
  {
   "cell_type": "markdown",
   "metadata": {},
   "source": [
    "Normalisation Script"
   ]
  },
  {
   "cell_type": "code",
   "execution_count": 2,
   "metadata": {},
   "outputs": [
    {
     "name": "stdout",
     "output_type": "stream",
     "text": [
      "Existing database file deleted: C:\\Users\\singh\\Downloads\\503 Project\\normalized2.db\n",
      "Creating database: C:\\Users\\singh\\Downloads\\503 Project\\normalized2.db\n",
      "Creating Patients table...\n",
      "Creating HealthStatus table...\n",
      "Creating Lifestyle table...\n",
      "Creating MedicalHistory table...\n",
      "Creating Disabilities table...\n",
      "Creating PreventiveCare table...\n",
      "Creating RiskFactors table...\n",
      "All tables created successfully\n"
     ]
    }
   ],
   "source": [
    "'''\n",
    "The code normalises the data and creates a normalised database through functions that create a table.\n",
    "'''\n",
    "\n",
    "class DataNormalizer:\n",
    "    def __init__(self, csv_file, db_file):\n",
    "        self.csv_file = csv_file\n",
    "        self.db_file = db_file\n",
    "        os.makedirs(os.path.dirname(self.db_file), exist_ok=True)\n",
    "        self.conn = sqlite3.connect(self.db_file)\n",
    "        self.cursor = self.conn.cursor()\n",
    "        self.cursor.execute(\"PRAGMA foreign_keys = ON;\")\n",
    "        self.conn.commit()\n",
    "\n",
    "    def create_patients_table(self):\n",
    "        self.cursor.execute(\"DROP TABLE IF EXISTS Patients\")\n",
    "        self.cursor.execute('''\n",
    "        CREATE TABLE Patients (\n",
    "            PatientID INTEGER PRIMARY KEY AUTOINCREMENT,\n",
    "            State TEXT,\n",
    "            Sex TEXT,\n",
    "            AgeCategory TEXT,\n",
    "            RaceEthnicityCategory TEXT,\n",
    "            HeightInMeters REAL,\n",
    "            WeightInKilograms REAL,\n",
    "            BMI REAL\n",
    "        )''')\n",
    "        \n",
    "        data = []\n",
    "        with open(self.csv_file, 'r') as file:\n",
    "            next(file)\n",
    "            for line in file:\n",
    "                row = line.strip().split(',')\n",
    "                data.append((row[0], row[1], row[29], row[28], row[30], row[31], row[32]))\n",
    "\n",
    "        self.cursor.executemany('''\n",
    "        INSERT INTO Patients (State, Sex, AgeCategory, RaceEthnicityCategory, HeightInMeters, WeightInKilograms, BMI)\n",
    "        VALUES (?, ?, ?, ?, ?, ?, ?)\n",
    "        ''', data)\n",
    "        \n",
    "        self.conn.commit()\n",
    "\n",
    "    def create_health_status_table(self):\n",
    "        self.cursor.execute(\"DROP TABLE IF EXISTS HealthStatus\")\n",
    "        self.cursor.execute('''\n",
    "        CREATE TABLE HealthStatus (\n",
    "            HealthStatusID INTEGER PRIMARY KEY AUTOINCREMENT,\n",
    "            PatientID INTEGER,\n",
    "            GeneralHealth TEXT,\n",
    "            PhysicalHealthDays INTEGER,\n",
    "            MentalHealthDays INTEGER,\n",
    "            LastCheckupTime TEXT,\n",
    "            FOREIGN KEY (PatientID) REFERENCES Patients(PatientID)\n",
    "        )''')\n",
    "        \n",
    "        data = []\n",
    "        with open(self.csv_file, 'r') as file:\n",
    "            next(file)\n",
    "            for idx, line in enumerate(file, 1):\n",
    "                row = line.strip().split(',')\n",
    "                data.append((idx, row[2], row[3], row[4], row[5]))\n",
    "\n",
    "        self.cursor.executemany('''\n",
    "        INSERT INTO HealthStatus (PatientID, GeneralHealth, PhysicalHealthDays, MentalHealthDays, LastCheckupTime)\n",
    "        VALUES (?, ?, ?, ?, ?)\n",
    "        ''', data)\n",
    "        \n",
    "        self.conn.commit()\n",
    "\n",
    "    def create_lifestyle_table(self):\n",
    "        self.cursor.execute(\"DROP TABLE IF EXISTS Lifestyle\")\n",
    "        self.cursor.execute('''\n",
    "        CREATE TABLE Lifestyle (\n",
    "            LifestyleID INTEGER PRIMARY KEY AUTOINCREMENT,\n",
    "            PatientID INTEGER,\n",
    "            PhysicalActivities TEXT,\n",
    "            SleepHours INTEGER,\n",
    "            AlcoholDrinkers TEXT,\n",
    "            SmokerStatus TEXT,\n",
    "            ECigaretteUsage TEXT,\n",
    "            FOREIGN KEY (PatientID) REFERENCES Patients(PatientID)\n",
    "        )''')\n",
    "        \n",
    "        data = []\n",
    "        with open(self.csv_file, 'r') as file:\n",
    "            next(file)\n",
    "            for idx, line in enumerate(file, 1):\n",
    "                row = line.strip().split(',')\n",
    "                data.append((idx, row[6], row[7], row[33], row[25], row[26]))\n",
    "\n",
    "        self.cursor.executemany('''\n",
    "        INSERT INTO Lifestyle (PatientID, PhysicalActivities, SleepHours, AlcoholDrinkers, SmokerStatus, ECigaretteUsage)\n",
    "        VALUES (?, ?, ?, ?, ?, ?)\n",
    "        ''', data)\n",
    "\n",
    "        self.conn.commit()\n",
    "\n",
    "    def create_medical_history_table(self):\n",
    "        self.cursor.execute(\"DROP TABLE IF EXISTS MedicalHistory\")\n",
    "        self.cursor.execute('''\n",
    "        CREATE TABLE MedicalHistory (\n",
    "            MedicalHistoryID INTEGER PRIMARY KEY AUTOINCREMENT,\n",
    "            PatientID INTEGER,\n",
    "            RemovedTeeth TEXT,\n",
    "            HadHeartAttack TEXT,\n",
    "            HadAngina TEXT,\n",
    "            HadStroke TEXT,\n",
    "            HadAsthma TEXT,\n",
    "            HadSkinCancer TEXT,\n",
    "            HadCOPD TEXT,\n",
    "            HadDepressiveDisorder TEXT,\n",
    "            HadKidneyDisease TEXT,\n",
    "            HadArthritis TEXT,\n",
    "            HadDiabetes TEXT,\n",
    "            FOREIGN KEY (PatientID) REFERENCES Patients(PatientID)\n",
    "        )''')\n",
    "        \n",
    "        data = []\n",
    "        with open(self.csv_file, 'r') as file:\n",
    "            next(file)\n",
    "            for idx, line in enumerate(file, 1):\n",
    "                row = line.strip().split(',')\n",
    "                data.append((idx, row[8], row[9], row[10], row[11], row[12], row[13], row[14], row[15], row[16], row[17], row[18]))\n",
    "\n",
    "        self.cursor.executemany('''\n",
    "        INSERT INTO MedicalHistory (PatientID, RemovedTeeth, HadHeartAttack, HadAngina, HadStroke, HadAsthma, HadSkinCancer, HadCOPD, HadDepressiveDisorder, HadKidneyDisease, HadArthritis, HadDiabetes)\n",
    "        VALUES (?, ?, ?, ?, ?, ?, ?, ?, ?, ?, ?, ?)\n",
    "        ''', data)\n",
    "\n",
    "        self.conn.commit()\n",
    "\n",
    "    def create_disabilities_table(self):\n",
    "        self.cursor.execute(\"DROP TABLE IF EXISTS Disabilities\")\n",
    "        self.cursor.execute('''\n",
    "        CREATE TABLE Disabilities (\n",
    "            DisabilityID INTEGER PRIMARY KEY AUTOINCREMENT,\n",
    "            PatientID INTEGER,\n",
    "            DeafOrHardOfHearing TEXT,\n",
    "            BlindOrVisionDifficulty TEXT,\n",
    "            DifficultyConcentrating TEXT,\n",
    "            DifficultyWalking TEXT,\n",
    "            DifficultyDressingBathing TEXT,\n",
    "            DifficultyErrands TEXT,\n",
    "            FOREIGN KEY (PatientID) REFERENCES Patients(PatientID)\n",
    "        )''')\n",
    "        \n",
    "        data = []\n",
    "        with open(self.csv_file, 'r') as file:\n",
    "            next(file)\n",
    "            for idx, line in enumerate(file, 1):\n",
    "                row = line.strip().split(',')\n",
    "                data.append((idx, row[19], row[20], row[21], row[22], row[23], row[24]))\n",
    "\n",
    "        self.cursor.executemany('''\n",
    "        INSERT INTO Disabilities (PatientID, DeafOrHardOfHearing, BlindOrVisionDifficulty, DifficultyConcentrating, DifficultyWalking, DifficultyDressingBathing, DifficultyErrands)\n",
    "        VALUES (?, ?, ?, ?, ?, ?, ?)\n",
    "        ''', data)\n",
    "\n",
    "        self.conn.commit()\n",
    "\n",
    "    def create_preventive_care_table(self):\n",
    "        self.cursor.execute(\"DROP TABLE IF EXISTS PreventiveCare\")\n",
    "        self.cursor.execute('''\n",
    "        CREATE TABLE PreventiveCare (\n",
    "            PreventiveCareID INTEGER PRIMARY KEY AUTOINCREMENT,\n",
    "            PatientID INTEGER,\n",
    "            ChestScan TEXT,\n",
    "            HIVTesting TEXT,\n",
    "            FluVaxLast12 TEXT,\n",
    "            PneumoVaxEver TEXT,\n",
    "            TetanusLast10Tdap TEXT,\n",
    "            FOREIGN KEY (PatientID) REFERENCES Patients(PatientID)\n",
    "        )''')\n",
    "        \n",
    "        data = []\n",
    "        with open(self.csv_file, 'r') as file:\n",
    "            next(file)\n",
    "            for idx, line in enumerate(file, 1):\n",
    "                row = line.strip().split(',')\n",
    "                data.append((idx, row[27], row[34], row[35], row[36], row[37]))\n",
    "\n",
    "        self.cursor.executemany('''\n",
    "        INSERT INTO PreventiveCare (PatientID, ChestScan, HIVTesting, FluVaxLast12, PneumoVaxEver, TetanusLast10Tdap)\n",
    "        VALUES (?, ?, ?, ?, ?, ?)\n",
    "        ''', data)\n",
    "\n",
    "        self.conn.commit()\n",
    "\n",
    "    def create_risk_factors_table(self):\n",
    "        self.cursor.execute(\"DROP TABLE IF EXISTS RiskFactors\")\n",
    "        self.cursor.execute('''\n",
    "        CREATE TABLE RiskFactors (\n",
    "            RiskFactorID INTEGER PRIMARY KEY AUTOINCREMENT,\n",
    "            PatientID INTEGER,\n",
    "            HighRiskLastYear TEXT,\n",
    "            CovidPos TEXT,\n",
    "            FOREIGN KEY (PatientID) REFERENCES Patients(PatientID)\n",
    "        )''')\n",
    "        \n",
    "        data = []\n",
    "        with open(self.csv_file, 'r') as file:\n",
    "            next(file)\n",
    "            for idx, line in enumerate(file, 1):\n",
    "                row = line.strip().split(',')\n",
    "                data.append((idx, row[38], row[39]))\n",
    "\n",
    "        self.cursor.executemany('''\n",
    "        INSERT INTO RiskFactors (PatientID, HighRiskLastYear, CovidPos)\n",
    "        VALUES (?, ?, ?)\n",
    "        ''', data)\n",
    "\n",
    "        self.conn.commit()\n",
    "\n",
    "    def close_connection(self):\n",
    "        self.conn.close()\n",
    "\n",
    "    def run(self):\n",
    "        try:\n",
    "            print(f\"Creating database: {self.db_file}\")\n",
    "            print(\"Creating Patients table...\")\n",
    "            self.create_patients_table()\n",
    "            print(\"Creating HealthStatus table...\")\n",
    "            self.create_health_status_table()\n",
    "            print(\"Creating Lifestyle table...\")\n",
    "            self.create_lifestyle_table()\n",
    "            print(\"Creating MedicalHistory table...\")\n",
    "            self.create_medical_history_table()\n",
    "            print(\"Creating Disabilities table...\")\n",
    "            self.create_disabilities_table()\n",
    "            print(\"Creating PreventiveCare table...\")\n",
    "            self.create_preventive_care_table()\n",
    "            print(\"Creating RiskFactors table...\")\n",
    "            self.create_risk_factors_table()\n",
    "            print(\"All tables created successfully\")\n",
    "        except sqlite3.Error as e:\n",
    "            print(f\"An error occurred: {e}\")\n",
    "        finally:\n",
    "            self.close_connection()\n",
    "\n",
    "\n",
    "csv_file = r\"C:\\Users\\singh\\Downloads\\503 Project\\heart_2022_with_nans.csv\"\n",
    "if not os.path.exists(csv_file):\n",
    "    print(f\"CSV file not found: {csv_file}\")\n",
    "    exit(1)\n",
    "\n",
    "db_file = r\"C:\\Users\\singh\\Downloads\\503 Project\\normalized2.db\"\n",
    "if os.path.exists(db_file):\n",
    "    os.remove(db_file)\n",
    "    print(f\"Existing database file deleted: {db_file}\")\n",
    "\n",
    "normalizer = DataNormalizer(csv_file, db_file)\n",
    "normalizer.run()"
   ]
  },
  {
   "cell_type": "markdown",
   "metadata": {},
   "source": [
    "Dataframe Merging Script"
   ]
  },
  {
   "cell_type": "code",
   "execution_count": 3,
   "metadata": {},
   "outputs": [
    {
     "name": "stdout",
     "output_type": "stream",
     "text": [
      "Joined data saved to 'joined_patient_data.csv'\n"
     ]
    }
   ],
   "source": [
    "'''\n",
    "Joins all tables in normalised db to create a dataframe for EDA and Pre-processing\n",
    "'''\n",
    "\n",
    "def join_all_tables(db_file):\n",
    "    conn = sqlite3.connect(db_file)\n",
    "    \n",
    "    query = \"\"\"\n",
    "    SELECT \n",
    "        Patients.PatientID,\n",
    "        Patients.State,\n",
    "        Patients.Sex,\n",
    "        Patients.AgeCategory,\n",
    "        Patients.RaceEthnicityCategory,\n",
    "        Patients.HeightInMeters,\n",
    "        Patients.WeightInKilograms,\n",
    "        Patients.BMI,\n",
    "        HealthStatus.GeneralHealth,\n",
    "        HealthStatus.PhysicalHealthDays,\n",
    "        HealthStatus.MentalHealthDays,\n",
    "        HealthStatus.LastCheckupTime,\n",
    "        Lifestyle.PhysicalActivities,\n",
    "        Lifestyle.SleepHours,\n",
    "        Lifestyle.AlcoholDrinkers,\n",
    "        Lifestyle.SmokerStatus,\n",
    "        Lifestyle.ECigaretteUsage,\n",
    "        MedicalHistory.RemovedTeeth,\n",
    "        MedicalHistory.HadHeartAttack,\n",
    "        MedicalHistory.HadAngina,\n",
    "        MedicalHistory.HadStroke,\n",
    "        MedicalHistory.HadAsthma,\n",
    "        MedicalHistory.HadSkinCancer,\n",
    "        MedicalHistory.HadCOPD,\n",
    "        MedicalHistory.HadDepressiveDisorder,\n",
    "        MedicalHistory.HadKidneyDisease,\n",
    "        MedicalHistory.HadArthritis,\n",
    "        MedicalHistory.HadDiabetes,\n",
    "        Disabilities.DeafOrHardOfHearing,\n",
    "        Disabilities.BlindOrVisionDifficulty,\n",
    "        Disabilities.DifficultyConcentrating,\n",
    "        Disabilities.DifficultyWalking,\n",
    "        Disabilities.DifficultyDressingBathing,\n",
    "        Disabilities.DifficultyErrands,\n",
    "        PreventiveCare.ChestScan,\n",
    "        PreventiveCare.HIVTesting,\n",
    "        PreventiveCare.FluVaxLast12,\n",
    "        PreventiveCare.PneumoVaxEver,\n",
    "        PreventiveCare.TetanusLast10Tdap,\n",
    "        RiskFactors.HighRiskLastYear,\n",
    "        RiskFactors.CovidPos\n",
    "    FROM Patients\n",
    "    JOIN HealthStatus ON Patients.PatientID = HealthStatus.PatientID\n",
    "    JOIN Lifestyle ON Patients.PatientID = Lifestyle.PatientID\n",
    "    JOIN MedicalHistory ON Patients.PatientID = MedicalHistory.PatientID\n",
    "    JOIN Disabilities ON Patients.PatientID = Disabilities.PatientID\n",
    "    JOIN PreventiveCare ON Patients.PatientID = PreventiveCare.PatientID\n",
    "    JOIN RiskFactors ON Patients.PatientID = RiskFactors.PatientID\n",
    "    \"\"\"\n",
    "    \n",
    "    df = pd.read_sql_query(query, conn)\n",
    "    conn.close()\n",
    "    \n",
    "    return df\n",
    "\n",
    "db_file = r\"C:\\Users\\singh\\Downloads\\503 Project\\normalized2.db\"\n",
    "joined_df = join_all_tables(db_file)\n",
    "\n",
    "joined_df.to_csv(r\"C:\\Users\\singh\\Downloads\\503 Project\\joined.csv\", index=False)\n",
    "\n",
    "print(\"Joined data saved to 'joined_patient_data.csv'\")\n"
   ]
  },
  {
   "cell_type": "markdown",
   "metadata": {},
   "source": [
    "Data Profiling and EDA"
   ]
  },
  {
   "cell_type": "code",
   "execution_count": 4,
   "metadata": {},
   "outputs": [],
   "source": [
    "'''\n",
    "Copying the dataframe, and creating the response variable as a sum of three Heart Disease related variables, as well as removing some non-related variables\n",
    "'''\n",
    "df = joined_df.copy()\n",
    "df[\"HadHeartIssues\"] = df[[\"HadHeartAttack\", \"HadAngina\", \"HadStroke\"]].apply(\n",
    "    lambda row: \"Yes\" if \"Yes\" in row.values else \"No\", axis=1)\n",
    "df.drop(columns=[\"HadHeartAttack\", \"HadAngina\", \"HadStroke\", \"RemovedTeeth\", \"TetanusLast10Tdap\", \"State\", \"PatientID\"], inplace=True)\n",
    "profile = ProfileReport(df, title=\"Pandas Profiling Report\")\n",
    "profile\n"
   ]
  },
  {
   "cell_type": "markdown",
   "metadata": {},
   "source": [
    "We can see the profile above, which shows all the columns that are being used, as well as the range of values, alerts, covariance matrix, plots, heatmaps, etc. \n",
    "\n",
    "There are around 445,000 rows. However the profile also shows us that our response variable has high imbalance of class, which we will need to take care for in the next steps, through undersampling, which will reduce our row count significantly\n",
    "\n",
    "There are other variables that have issues, such as state having a high cardinality, missing data values, etc\n",
    "\n",
    "The following code will perform basic cleanup tasks and make the data ready for use"
   ]
  },
  {
   "cell_type": "code",
   "execution_count": 5,
   "metadata": {},
   "outputs": [],
   "source": [
    "'''\n",
    "Below code performs a bunch of cleanup tasks that were determined from stufying the data. \n",
    "Some of these columns, though useful for other prediction tasks (such as if a person has SkinCancer or not),\n",
    "are not relevant for this prediction. Further, values such as Yes and No have been converted to True and false, as well as\n",
    "numeric columns have been cleaned to maintain data type consistencies\n",
    "We can compare the profiles at the end and see that this data is more suited for processing\n",
    "'''\n",
    "\n",
    "# Function to convert yes/no to boolean\n",
    "def yes_no_to_bool(value):\n",
    "    if pd.isna(value):\n",
    "        return np.nan\n",
    "    return value.lower() == 'yes'\n",
    "\n",
    "# Standardize columns\n",
    "df['Sex'] = df['Sex'].astype('category')\n",
    "df['AgeCategory'] = df['AgeCategory'].astype('category')\n",
    "df['RaceEthnicityCategory'] = df['RaceEthnicityCategory'].astype('category')\n",
    "df['HeightInMeters'] = pd.to_numeric(df['HeightInMeters'], errors='coerce')\n",
    "df['WeightInKilograms'] = pd.to_numeric(df['WeightInKilograms'], errors='coerce')\n",
    "df['BMI'] = pd.to_numeric(df['BMI'], errors='coerce')\n",
    "df['GeneralHealth'] = df['GeneralHealth'].astype('category')\n",
    "df['PhysicalHealthDays'] = pd.to_numeric(df['PhysicalHealthDays'], errors='coerce')\n",
    "df['MentalHealthDays'] = pd.to_numeric(df['MentalHealthDays'], errors='coerce')\n",
    "df['LastCheckupTime'] = df['LastCheckupTime'].astype('category')\n",
    "df['SleepHours'] = pd.to_numeric(df['SleepHours'], errors='coerce')\n",
    "df['SmokerStatus'] = df['SmokerStatus'].astype('category')\n",
    "df['ECigaretteUsage'] = df['ECigaretteUsage'].astype('category')\n",
    "had_columns = [col for col in df.columns if col.startswith('Had')]\n",
    "for col in had_columns:\n",
    "    df[col] = df[col].apply(yes_no_to_bool)\n",
    "binary_columns = [\n",
    "    \"DeafOrHardOfHearing\", \"BlindOrVisionDifficulty\", \"DifficultyConcentrating\",\n",
    "    \"DifficultyWalking\", \"DifficultyDressingBathing\", \"DifficultyErrands\",\n",
    "    \"FluVaxLast12\", \"PneumoVaxEver\", \"HighRiskLastYear\", \"CovidPos\", \"PhysicalActivities\",\n",
    "    \"AlcoholDrinkers\", \"ChestScan\", \"HIVTesting\"\n",
    "]\n",
    "for col in binary_columns:\n",
    "    df[col] = df[col].apply(yes_no_to_bool)\n",
    "categorical_columns = ['ECigaretteUsage', 'LastCheckupTime', 'GeneralHealth', \n",
    "                       'RaceEthnicityCategory', 'AgeCategory', 'SmokerStatus']\n",
    "for column in categorical_columns:\n",
    "    df = df[df[column].notna() & (df[column] != '')]\n",
    "numeric_columns = ['HeightInMeters', 'WeightInKilograms', 'BMI', \n",
    "                   'PhysicalHealthDays', 'MentalHealthDays', 'SleepHours']\n",
    "for column in numeric_columns:\n",
    "    df = df[df[column].notna()]\n",
    "df = df.dropna()\n",
    "df.to_csv(r\"C:\\Users\\singh\\Downloads\\503 Project\\cleaned_joined2.csv\", index=False)\n",
    "\n",
    "profile = ProfileReport(df, title=\"Pandas Profiling Report\")\n",
    "profile\n"
   ]
  },
  {
   "cell_type": "code",
   "execution_count": 6,
   "metadata": {},
   "outputs": [],
   "source": [
    "'''\n",
    "We need to perfrom Undersampling as there is a great class imbalance in our response variable.\n",
    "The below code tries to fix that by taking only a subset of the False class\n",
    "'''\n",
    "\n",
    "X = df.drop('HadHeartIssues', axis=1)\n",
    "y = df['HadHeartIssues']\n",
    "rus = RandomUnderSampler(random_state=42)\n",
    "X_resampled, y_resampled = rus.fit_resample(X, y)\n",
    "df_undersampled = pd.DataFrame(X_resampled, columns=X.columns)\n",
    "df_undersampled['HadHeartIssues'] = y_resampled\n",
    "df = df_undersampled\n",
    "df.to_csv(r\"C:\\Users\\singh\\Downloads\\503 Project\\cleaned_joined3.csv\", index=False)\n",
    "\n",
    "#We can check the profile again at the end to see if the data is now cleaned\n",
    "profile = ProfileReport(df, title=\"Pandas Profiling Report\")\n",
    "profile\n",
    "\n",
    "#Alerts that were ignored\n",
    "# - 17 duplicate rows - Duplicacy arrives from deletion of some variables, and has only 17 rows, hence was ignored"
   ]
  },
  {
   "cell_type": "code",
   "execution_count": 7,
   "metadata": {},
   "outputs": [
    {
     "data": {
      "text/plain": [
       "<Experiment: artifact_location='mlflow-artifacts:/86d8cd44ef014a1a85602108549a0d9c', creation_time=1734611106268, experiment_id='0', last_update_time=1734611106268, lifecycle_stage='active', name='logistic_regression_experiment', tags={}>"
      ]
     },
     "execution_count": 7,
     "metadata": {},
     "output_type": "execute_result"
    }
   ],
   "source": [
    "import os\n",
    "import mlflow\n",
    "\n",
    "# Set tracking URI and credentials\n",
    "MLFLOW_TRACKING_URI = \"https://dagshub.com/singhvarunnn789/EAS503.mlflow\"\n",
    "os.environ[\"MLFLOW_TRACKING_USERNAME\"] = \"singhvarunnn789\"\n",
    "os.environ[\"MLFLOW_TRACKING_PASSWORD\"] = \"0b1c49603d59c6ba067650000962ccbb763351a5\"\n",
    "\n",
    "# Set the tracking URI\n",
    "mlflow.set_tracking_uri(uri=MLFLOW_TRACKING_URI)\n",
    "\n",
    "# Set experiment\n",
    "mlflow.set_experiment(\"logistic_regression_experiment\")"
   ]
  },
  {
   "cell_type": "markdown",
   "metadata": {},
   "source": [
    "### Splitting the data into test and train sets in a ratio of 2:8"
   ]
  },
  {
   "cell_type": "code",
   "execution_count": 8,
   "metadata": {},
   "outputs": [],
   "source": [
    "# Split the data\n",
    "X = df.drop('HadHeartIssues', axis=1)\n",
    "y = df['HadHeartIssues']\n",
    "X_train, X_test, y_train, y_test = train_test_split(X, y, test_size=0.2, random_state=42)\n"
   ]
  },
  {
   "cell_type": "markdown",
   "metadata": {},
   "source": [
    "## Experiment 1"
   ]
  },
  {
   "cell_type": "markdown",
   "metadata": {},
   "source": [
    "### Pipeline for Pre-processing"
   ]
  },
  {
   "cell_type": "code",
   "execution_count": 9,
   "metadata": {},
   "outputs": [],
   "source": [
    "from sklearn.preprocessing import StandardScaler, MinMaxScaler, FunctionTransformer, OneHotEncoder\n",
    "from sklearn.impute import SimpleImputer\n",
    "from sklearn.compose import ColumnTransformer\n",
    "from sklearn.pipeline import Pipeline\n",
    "\n",
    "numeric_features = X.select_dtypes(include=['int64', 'float64']).columns\n",
    "categorical_features = X.select_dtypes(include=['object']).columns\n",
    "numeric_transformer = Pipeline(steps=[\n",
    "    ('imputer', SimpleImputer(strategy='median')),\n",
    "    ('scaler', StandardScaler()),\n",
    "    ('minmax', MinMaxScaler()),\n",
    "    ('log', FunctionTransformer(np.log1p, validate=False))\n",
    "])\n",
    "\n",
    "categorical_transformer = Pipeline(steps=[\n",
    "    ('imputer', SimpleImputer(strategy='constant', fill_value='missing')),\n",
    "    ('onehot', OneHotEncoder(handle_unknown='ignore'))\n",
    "])\n",
    "preprocessor = ColumnTransformer(\n",
    "    transformers=[\n",
    "        ('num', numeric_transformer, numeric_features),\n",
    "        ('cat', categorical_transformer, categorical_features)\n",
    "    ])\n"
   ]
  },
  {
   "cell_type": "markdown",
   "metadata": {},
   "source": [
    "### Create pipeline for Logistic Regression"
   ]
  },
  {
   "cell_type": "code",
   "execution_count": 10,
   "metadata": {},
   "outputs": [],
   "source": [
    "from sklearn.linear_model import LogisticRegression\n",
    "\n",
    "pipeline = Pipeline([\n",
    "    ('preprocessor', preprocessor),\n",
    "    ('classifier', LogisticRegression())\n",
    "])"
   ]
  },
  {
   "cell_type": "markdown",
   "metadata": {},
   "source": [
    "### Parameter Hypertuning"
   ]
  },
  {
   "cell_type": "code",
   "execution_count": 11,
   "metadata": {},
   "outputs": [],
   "source": [
    "from sklearn.model_selection import GridSearchCV\n",
    "\n",
    "param_grid = {\n",
    "    'classifier__C': [0.1, 1, 10],\n",
    "    'classifier__penalty': ['l1', 'l2'],\n",
    "    'classifier__solver': ['liblinear', 'saga']\n",
    "}\n",
    "grid_search = GridSearchCV(pipeline, param_grid, cv=3, scoring='f1', n_jobs=-1)\n",
    "grid_search.fit(X_train, y_train)\n",
    "\n",
    "best_model = grid_search.best_estimator_\n"
   ]
  },
  {
   "cell_type": "markdown",
   "metadata": {},
   "source": [
    "### 10 - fold Cross validation"
   ]
  },
  {
   "cell_type": "code",
   "execution_count": 12,
   "metadata": {},
   "outputs": [],
   "source": [
    "from sklearn.model_selection import cross_val_score\n",
    "\n",
    "cv_scores = cross_val_score(best_model, X_train, y_train, cv=10, scoring='f1')\n"
   ]
  },
  {
   "cell_type": "markdown",
   "metadata": {},
   "source": [
    "## Logging results in MLFlow"
   ]
  },
  {
   "cell_type": "code",
   "execution_count": 13,
   "metadata": {},
   "outputs": [
    {
     "data": {
      "application/vnd.jupyter.widget-view+json": {
       "model_id": "47459ac1dc874ecf8eabb55f6cc46f72",
       "version_major": 2,
       "version_minor": 0
      },
      "text/plain": [
       "Downloading artifacts:   0%|          | 0/7 [00:00<?, ?it/s]"
      ]
     },
     "metadata": {},
     "output_type": "display_data"
    },
    {
     "name": "stderr",
     "output_type": "stream",
     "text": [
      "Registered model 'LogisticRegressionModel' already exists. Creating a new version of this model...\n",
      "2024/12/20 16:15:02 INFO mlflow.store.model_registry.abstract_store: Waiting up to 300 seconds for model version to finish creation. Model name: LogisticRegressionModel, version 25\n",
      "Created version '25' of model 'LogisticRegressionModel'.\n"
     ]
    },
    {
     "name": "stdout",
     "output_type": "stream",
     "text": [
      "🏃 View run omniscient-wasp-764 at: https://dagshub.com/singhvarunnn789/EAS503.mlflow/#/experiments/0/runs/14f3f32e18da451c812763a78f080e3e\n",
      "🧪 View experiment at: https://dagshub.com/singhvarunnn789/EAS503.mlflow/#/experiments/0\n",
      "Best parameters: {'classifier__C': 10, 'classifier__penalty': 'l2', 'classifier__solver': 'saga'}\n",
      "F1-score on test set: 0.5963\n",
      "Confusion matrix: TN=6511, FP=1630, FN=4696, TP=3418\n",
      "Cross-validation F1-scores - Mean: 0.5144, Std: 0.0083\n"
     ]
    }
   ],
   "source": [
    "import mlflow\n",
    "from mlflow.models import infer_signature\n",
    "import os\n",
    "\n",
    "# Set MLflow tracking URI\n",
    "MLFLOW_TRACKING_URI = \"https://dagshub.com/singhvarunnn789/EAS503.mlflow\"\n",
    "os.environ['MLFLOW_TRACKING_USERNAME'] = 'singhvarunnn789'\n",
    "os.environ['MLFLOW_TRACKING_PASSWORD'] = '0b1c49603d59c6ba067650000962ccbb763351a5'\n",
    "mlflow.set_tracking_uri(uri=MLFLOW_TRACKING_URI)\n",
    "mlflow.set_experiment(\"logistic_regression_experiment\")\n",
    "\n",
    "y_pred = best_model.predict(X_test)\n",
    "f1 = f1_score(y_test, y_pred, average='weighted')\n",
    "tn, fp, fn, tp = confusion_matrix(y_test, y_pred).ravel()\n",
    "\n",
    "# Log results with MLflow\n",
    "with mlflow.start_run():\n",
    "    mlflow.log_params(grid_search.best_params_)\n",
    "    mlflow.log_metric(\"f1_score\", f1)\n",
    "    mlflow.log_metric(\"true_negatives\", tn)\n",
    "    mlflow.log_metric(\"false_positives\", fp)\n",
    "    mlflow.log_metric(\"false_negatives\", fn)\n",
    "    mlflow.log_metric(\"true_positives\", tp)\n",
    "    mlflow.log_metric(\"cv_f1_mean\", np.mean(cv_scores))\n",
    "    mlflow.log_metric(\"cv_f1_std\", np.std(cv_scores))\n",
    "    \n",
    "    # Log the model\n",
    "    signature = infer_signature(X_train, best_model.predict(X_train))\n",
    "    mlflow.sklearn.log_model(\n",
    "        sk_model=best_model,\n",
    "        artifact_path=\"logistic_regression_model\",\n",
    "        signature=signature,\n",
    "        input_example=X_train.iloc[0].to_dict(),\n",
    "        registered_model_name=\"LogisticRegressionModel\"\n",
    "    )\n",
    "\n",
    "print(f\"Best parameters: {grid_search.best_params_}\")\n",
    "print(f\"F1-score on test set: {f1:.4f}\")\n",
    "print(f\"Confusion matrix: TN={tn}, FP={fp}, FN={fn}, TP={tp}\")\n",
    "print(f\"Cross-validation F1-scores - Mean: {np.mean(cv_scores):.4f}, Std: {np.std(cv_scores):.4f}\")\n"
   ]
  },
  {
   "cell_type": "markdown",
   "metadata": {},
   "source": [
    "### Adding the results of Experiments as a dictionary to a list so we can plot the F1 scores at the end"
   ]
  },
  {
   "cell_type": "code",
   "execution_count": 14,
   "metadata": {},
   "outputs": [
    {
     "name": "stdout",
     "output_type": "stream",
     "text": [
      "Best parameters: {'classifier__C': 10, 'classifier__penalty': 'l2', 'classifier__solver': 'saga'}\n",
      "F1-score on test set: 0.5963\n",
      "Confusion matrix: TN=6511, FP=1630, FN=4696, TP=3418\n",
      "Cross-validation F1-scores - Mean: 0.5144, Std: 0.0083\n"
     ]
    }
   ],
   "source": [
    "print(f\"Best parameters: {grid_search.best_params_}\")\n",
    "print(f\"F1-score on test set: {f1:.4f}\")\n",
    "print(f\"Confusion matrix: TN={tn}, FP={fp}, FN={fn}, TP={tp}\")\n",
    "print(f\"Cross-validation F1-scores - Mean: {np.mean(cv_scores):.4f}, Std: {np.std(cv_scores):.4f}\")\n",
    "\n",
    "\n",
    "experiment_results = {\n",
    "    \"experiment_name\": \"Experiment 1: Logistic Regression\",\n",
    "    \"f1_score\": f1,\n",
    "    \"confusion_matrix\": {\n",
    "        \"TN\": tn,\n",
    "        \"FP\": fp,\n",
    "        \"FN\": fn,\n",
    "        \"TP\": tp\n",
    "    },\n",
    "    \"cv_f1_mean\": np.mean(cv_scores),\n",
    "    \"cv_f1_std\": np.std(cv_scores)\n",
    "}\n",
    "\n",
    "\n",
    "all_experiment_results = []\n",
    "all_experiment_results.append(experiment_results)"
   ]
  },
  {
   "cell_type": "markdown",
   "metadata": {},
   "source": [
    "## Experiment 2"
   ]
  },
  {
   "cell_type": "markdown",
   "metadata": {},
   "source": [
    "### Pipeline for pre-processing"
   ]
  },
  {
   "cell_type": "code",
   "execution_count": 15,
   "metadata": {},
   "outputs": [],
   "source": [
    "from sklearn.preprocessing import StandardScaler, OneHotEncoder\n",
    "from sklearn.impute import SimpleImputer\n",
    "from sklearn.compose import ColumnTransformer\n",
    "from sklearn.pipeline import Pipeline\n",
    "\n",
    "numeric_features = X.select_dtypes(include=['int64', 'float64']).columns\n",
    "categorical_features = X.select_dtypes(include=['object']).columns\n",
    "\n",
    "numeric_transformer = Pipeline(steps=[\n",
    "    ('imputer', SimpleImputer(strategy='median')),\n",
    "    ('scaler', StandardScaler())\n",
    "])\n",
    "\n",
    "categorical_transformer = Pipeline(steps=[\n",
    "    ('imputer', SimpleImputer(strategy='constant', fill_value='missing')),\n",
    "    ('onehot', OneHotEncoder(handle_unknown='ignore'))\n",
    "])\n",
    "\n",
    "preprocessor = ColumnTransformer(\n",
    "    transformers=[\n",
    "        ('num', numeric_transformer, numeric_features),\n",
    "        ('cat', categorical_transformer, categorical_features)\n",
    "    ])\n"
   ]
  },
  {
   "cell_type": "markdown",
   "metadata": {},
   "source": [
    "### Pipeline for Logistic Regression, Ridge, RandomForest, and XGClassifier"
   ]
  },
  {
   "cell_type": "code",
   "execution_count": 16,
   "metadata": {},
   "outputs": [],
   "source": [
    "from sklearn.linear_model import LogisticRegression\n",
    "from sklearn.linear_model import RidgeClassifier\n",
    "from sklearn.ensemble import RandomForestClassifier\n",
    "from xgboost import XGBClassifier\n",
    "\n",
    "# Create pipelines for each classifier\n",
    "log_reg_pipeline = Pipeline([\n",
    "    ('preprocessor', preprocessor),\n",
    "    ('classifier', LogisticRegression())\n",
    "])\n",
    "\n",
    "ridge_pipeline = Pipeline([\n",
    "    ('preprocessor', preprocessor),\n",
    "    ('classifier', RidgeClassifier())\n",
    "])\n",
    "\n",
    "rf_pipeline = Pipeline([\n",
    "    ('preprocessor', preprocessor),\n",
    "    ('classifier', RandomForestClassifier())\n",
    "])\n",
    "\n",
    "xgb_pipeline = Pipeline([\n",
    "    ('preprocessor', preprocessor),\n",
    "    ('classifier', XGBClassifier(use_label_encoder=False, eval_metric='mlogloss'))\n",
    "])\n"
   ]
  },
  {
   "cell_type": "markdown",
   "metadata": {},
   "source": [
    "### Model Fitting for Logistic Regression, Ridge, RandomForest, and XGBClassfier"
   ]
  },
  {
   "cell_type": "code",
   "execution_count": 17,
   "metadata": {},
   "outputs": [
    {
     "name": "stdout",
     "output_type": "stream",
     "text": [
      "LogisticRegression:\n",
      "  CV F1-score: 0.4999 (+/- 0.0175)\n",
      "  Test Accuracy: 0.6110\n",
      "  Test F1-score: 0.5933\n",
      "RidgeClassifier:\n",
      "  CV F1-score: 0.4932 (+/- 0.0168)\n",
      "  Test Accuracy: 0.6098\n",
      "  Test F1-score: 0.5903\n",
      "RandomForestClassifier:\n",
      "  CV F1-score: 0.5765 (+/- 0.0078)\n",
      "  Test Accuracy: 0.5811\n",
      "  Test F1-score: 0.5809\n",
      "XGBClassifier:\n",
      "  CV F1-score: 0.5952 (+/- 0.0130)\n",
      "  Test Accuracy: 0.6226\n",
      "  Test F1-score: 0.6211\n"
     ]
    }
   ],
   "source": [
    "from sklearn.model_selection import cross_val_score\n",
    "from sklearn.metrics import accuracy_score, f1_score\n",
    "\n",
    "# List of pipelines\n",
    "pipelines = [\n",
    "    ('LogisticRegression', log_reg_pipeline),\n",
    "    ('RidgeClassifier', ridge_pipeline),\n",
    "    ('RandomForestClassifier', rf_pipeline),\n",
    "    ('XGBClassifier', xgb_pipeline)\n",
    "]\n",
    "\n",
    "for name, pipeline in pipelines:\n",
    "    cv_scores = cross_val_score(pipeline, X_train, y_train, cv=10, scoring='f1')\n",
    "    pipeline.fit(X_train, y_train)\n",
    "    y_pred = pipeline.predict(X_test)\n",
    "    accuracy = accuracy_score(y_test, y_pred)\n",
    "    f1 = f1_score(y_test, y_pred, average='weighted')\n",
    "    print(f\"{name}:\")\n",
    "    print(f\"  CV F1-score: {cv_scores.mean():.4f} (+/- {cv_scores.std() * 2:.4f})\")\n",
    "    print(f\"  Test Accuracy: {accuracy:.4f}\")\n",
    "    print(f\"  Test F1-score: {f1:.4f}\")"
   ]
  },
  {
   "cell_type": "markdown",
   "metadata": {},
   "source": [
    "### Logging results in MLFlow"
   ]
  },
  {
   "cell_type": "code",
   "execution_count": 18,
   "metadata": {},
   "outputs": [
    {
     "name": "stderr",
     "output_type": "stream",
     "text": [
      "2024/12/20 16:16:12 WARNING mlflow.models.model: Model logged without a signature and input example. Please set `input_example` parameter when logging the model to auto infer the model signature.\n"
     ]
    },
    {
     "name": "stdout",
     "output_type": "stream",
     "text": [
      "🏃 View run LogisticRegression at: https://dagshub.com/singhvarunnn789/EAS503.mlflow/#/experiments/1/runs/154efc83d7f54e6aa225d252f6a4ddfe\n",
      "🧪 View experiment at: https://dagshub.com/singhvarunnn789/EAS503.mlflow/#/experiments/1\n"
     ]
    },
    {
     "name": "stderr",
     "output_type": "stream",
     "text": [
      "2024/12/20 16:16:19 WARNING mlflow.models.model: Model logged without a signature and input example. Please set `input_example` parameter when logging the model to auto infer the model signature.\n"
     ]
    },
    {
     "name": "stdout",
     "output_type": "stream",
     "text": [
      "🏃 View run RidgeClassifier at: https://dagshub.com/singhvarunnn789/EAS503.mlflow/#/experiments/1/runs/3d6e036e6d11481db246b386b029fad4\n",
      "🧪 View experiment at: https://dagshub.com/singhvarunnn789/EAS503.mlflow/#/experiments/1\n"
     ]
    },
    {
     "name": "stderr",
     "output_type": "stream",
     "text": [
      "2024/12/20 16:16:35 WARNING mlflow.models.model: Model logged without a signature and input example. Please set `input_example` parameter when logging the model to auto infer the model signature.\n"
     ]
    },
    {
     "name": "stdout",
     "output_type": "stream",
     "text": [
      "🏃 View run RandomForestClassifier at: https://dagshub.com/singhvarunnn789/EAS503.mlflow/#/experiments/1/runs/14e87d21a7364daa975c07688e1c2448\n",
      "🧪 View experiment at: https://dagshub.com/singhvarunnn789/EAS503.mlflow/#/experiments/1\n"
     ]
    },
    {
     "name": "stderr",
     "output_type": "stream",
     "text": [
      "2024/12/20 16:20:08 WARNING mlflow.models.model: Model logged without a signature and input example. Please set `input_example` parameter when logging the model to auto infer the model signature.\n"
     ]
    },
    {
     "name": "stdout",
     "output_type": "stream",
     "text": [
      "🏃 View run XGBClassifier at: https://dagshub.com/singhvarunnn789/EAS503.mlflow/#/experiments/1/runs/4ca54ac31bc44e47aff04140dece8511\n",
      "🧪 View experiment at: https://dagshub.com/singhvarunnn789/EAS503.mlflow/#/experiments/1\n"
     ]
    }
   ],
   "source": [
    "import mlflow\n",
    "import os\n",
    "\n",
    "# Set MLflow tracking URI\n",
    "MLFLOW_TRACKING_URI = \"https://dagshub.com/singhvarunnn789/EAS503.mlflow\"\n",
    "os.environ['MLFLOW_TRACKING_USERNAME'] = 'singhvarunnn789'\n",
    "os.environ['MLFLOW_TRACKING_PASSWORD'] = '0b1c49603d59c6ba067650000962ccbb763351a5'\n",
    "mlflow.set_tracking_uri(uri=MLFLOW_TRACKING_URI)\n",
    "mlflow.set_experiment(\"classifier_comparison\")\n",
    "\n",
    "# Log results with MLflow\n",
    "for name, pipeline in pipelines:\n",
    "    with mlflow.start_run(run_name=name):\n",
    "        # Log the model\n",
    "        mlflow.sklearn.log_model(pipeline, f\"{name}_model\")\n",
    "        \n",
    "        # Log metrics\n",
    "        cv_scores = cross_val_score(pipeline, X_train, y_train, cv=10, scoring='f1')\n",
    "        y_pred = pipeline.predict(X_test)\n",
    "        accuracy = accuracy_score(y_test, y_pred)\n",
    "        f1 = f1_score(y_test, y_pred, average='weighted')\n",
    "        \n",
    "        mlflow.log_metric(\"cv_f1_mean\", cv_scores.mean())\n",
    "        mlflow.log_metric(\"cv_f1_std\", cv_scores.std())\n",
    "        mlflow.log_metric(\"test_accuracy\", accuracy)\n",
    "        mlflow.log_metric(\"test_f1\", f1)\n",
    "        \n",
    "        # Log parameters\n",
    "        mlflow.log_params(pipeline.get_params())\n"
   ]
  },
  {
   "cell_type": "markdown",
   "metadata": {},
   "source": [
    "### Adding the results of Experiments as a dictionary to a list so we can plot the F1 scores at the end"
   ]
  },
  {
   "cell_type": "code",
   "execution_count": 19,
   "metadata": {},
   "outputs": [],
   "source": [
    "experiment_results = []\n",
    "\n",
    "for name, pipeline in pipelines:\n",
    "    cv_scores = cross_val_score(pipeline, X_train, y_train, cv=10, scoring='f1')\n",
    "    y_pred = pipeline.predict(X_test)\n",
    "    accuracy = accuracy_score(y_test, y_pred)\n",
    "    f1 = f1_score(y_test, y_pred, average='weighted')\n",
    "    \n",
    "    result = {\n",
    "        \"experiment_name\": f\"Experiment 2: {name}\",\n",
    "        \"cv_f1_mean\": cv_scores.mean(),\n",
    "        \"cv_f1_std\": cv_scores.std(),\n",
    "        \"test_accuracy\": accuracy,\n",
    "        \"test_f1\": f1\n",
    "    }\n",
    "    experiment_results.append(result)\n",
    "\n",
    "# Add these results to the overall list of experiment results\n",
    "all_experiment_results.extend(experiment_results)"
   ]
  },
  {
   "cell_type": "markdown",
   "metadata": {},
   "source": [
    "## Experiment 3"
   ]
  },
  {
   "cell_type": "markdown",
   "metadata": {},
   "source": [
    "### Feature Engineering"
   ]
  },
  {
   "cell_type": "markdown",
   "metadata": {},
   "source": [
    "SMOTE was also used in this step as the classes were really unbalanced, which was causing bias and a low F1 score"
   ]
  },
  {
   "cell_type": "code",
   "execution_count": 20,
   "metadata": {},
   "outputs": [],
   "source": [
    "import pandas as pd\n",
    "import numpy as np\n",
    "from sklearn.model_selection import train_test_split, cross_val_score\n",
    "from sklearn.preprocessing import StandardScaler, OneHotEncoder\n",
    "from sklearn.impute import SimpleImputer\n",
    "from sklearn.compose import ColumnTransformer\n",
    "from sklearn.ensemble import RandomForestClassifier\n",
    "from sklearn.linear_model import LogisticRegression, RidgeClassifier\n",
    "from xgboost import XGBClassifier\n",
    "from sklearn.metrics import accuracy_score, f1_score, roc_auc_score\n",
    "from imblearn.over_sampling import SMOTE\n",
    "from imblearn.pipeline import Pipeline as ImbPipeline\n",
    "from sklearn.base import BaseEstimator, TransformerMixin\n",
    "import mlflow\n",
    "\n",
    "# Custom Transformer for Feature Engineering\n",
    "class FeatureEngineer(BaseEstimator, TransformerMixin):\n",
    "    def __init__(self):\n",
    "        pass\n",
    "\n",
    "    def fit(self, X, y=None):\n",
    "        return self\n",
    "\n",
    "    def transform(self, X):\n",
    "        X = X.copy()\n",
    "        X['BMI_category'] = pd.cut(X['BMI'], bins=[0, 18.5, 25, 30, np.inf], labels=['Underweight', 'Normal', 'Overweight', 'Obese'])\n",
    "        age_map = {'Age 18 to 24': 21, 'Age 25 to 29': 27, 'Age 30 to 34': 32, 'Age 35 to 39': 37,\n",
    "                   'Age 40 to 44': 42, 'Age 45 to 49': 47, 'Age 50 to 54': 52, 'Age 55 to 59': 57,\n",
    "                   'Age 60 to 64': 62, 'Age 65 to 69': 67, 'Age 70 to 74': 72, 'Age 75 to 79': 77,\n",
    "                   'Age 80 or older': 85}\n",
    "        X['Age_BMI_interaction'] = X['AgeCategory'].map(age_map) * X['BMI']\n",
    "        X['HealthScore'] = 30 - (X['PhysicalHealthDays'] + X['MentalHealthDays'])\n",
    "        X['LifestyleScore'] = (\n",
    "            X['PhysicalActivities'].astype(int) +\n",
    "            ((X['SleepHours'] >= 7) & (X['SleepHours'] <= 9)).astype(int) +\n",
    "            (~X['AlcoholDrinkers']).astype(int) +\n",
    "            (X['SmokerStatus'] == 'Never smoked').astype(int)\n",
    "        )\n",
    "        comorbidity_columns = ['HadAsthma', 'HadSkinCancer', 'HadCOPD', \n",
    "                               'HadDepressiveDisorder', 'HadKidneyDisease', \n",
    "                               'HadArthritis', 'HadDiabetes']\n",
    "        X['ComorbidityCount'] = X[comorbidity_columns].sum(axis=1)\n",
    "        X['CheckedWithinYear'] = (X['LastCheckupTime'] == 'Within past year (anytime less than 12 months ago)').astype(int)\n",
    "        \n",
    "        return X\n",
    "\n",
    "X = df.drop('HadHeartIssues', axis=1)\n",
    "y = df['HadHeartIssues']\n",
    "\n",
    "feature_engineer = FeatureEngineer()\n",
    "X_engineered = feature_engineer.fit_transform(X)\n",
    "\n",
    "X_train, X_test, y_train, y_test = train_test_split(X_engineered, y, test_size=0.2, random_state=42)\n",
    "\n"
   ]
  },
  {
   "cell_type": "markdown",
   "metadata": {},
   "source": [
    "### Creating pipelines for preprocessing"
   ]
  },
  {
   "cell_type": "code",
   "execution_count": 21,
   "metadata": {},
   "outputs": [],
   "source": [
    "numeric_features = X_train.select_dtypes(include=['int64', 'float64']).columns.tolist()\n",
    "categorical_features = X_train.select_dtypes(include=['object', 'category']).columns.tolist()\n",
    "\n",
    "# Create preprocessing steps for numeric and categorical features\n",
    "numeric_transformer = ImbPipeline(steps=[\n",
    "    ('imputer', SimpleImputer(strategy='median')),\n",
    "    ('scaler', StandardScaler())\n",
    "])\n",
    "\n",
    "categorical_transformer = ImbPipeline(steps=[\n",
    "    ('imputer', SimpleImputer(strategy='constant', fill_value='missing')),\n",
    "    ('onehot', OneHotEncoder(handle_unknown='ignore'))\n",
    "])\n",
    "\n",
    "preprocessor = ColumnTransformer(\n",
    "    transformers=[\n",
    "        ('num', numeric_transformer, numeric_features),\n",
    "        ('cat', categorical_transformer, categorical_features)\n",
    "    ])\n"
   ]
  },
  {
   "cell_type": "markdown",
   "metadata": {},
   "source": [
    "### Creating pipelines for Classification algorithms, similar to experiment 2"
   ]
  },
  {
   "cell_type": "code",
   "execution_count": 22,
   "metadata": {},
   "outputs": [],
   "source": [
    "pipelines = [\n",
    "    ('LogisticRegression', ImbPipeline([\n",
    "        ('preprocessor', preprocessor),\n",
    "        ('smote', SMOTE(random_state=42)),\n",
    "        ('classifier', LogisticRegression(random_state=42))\n",
    "    ])),\n",
    "    ('RidgeClassifier', ImbPipeline([\n",
    "        ('preprocessor', preprocessor),\n",
    "        ('smote', SMOTE(random_state=42)),\n",
    "        ('classifier', RidgeClassifier(random_state=42))\n",
    "    ])),\n",
    "    ('RandomForestClassifier', ImbPipeline([\n",
    "        ('preprocessor', preprocessor),\n",
    "        ('smote', SMOTE(random_state=42)),\n",
    "        ('classifier', RandomForestClassifier(class_weight='balanced', random_state=42))\n",
    "    ])),\n",
    "    ('XGBClassifier', ImbPipeline([\n",
    "        ('preprocessor', preprocessor),\n",
    "        ('smote', SMOTE(random_state=42)),\n",
    "        ('classifier', XGBClassifier(random_state=42))\n",
    "    ]))\n",
    "]"
   ]
  },
  {
   "cell_type": "markdown",
   "metadata": {},
   "source": [
    "### Logging results in MLFlow"
   ]
  },
  {
   "cell_type": "code",
   "execution_count": 23,
   "metadata": {},
   "outputs": [
    {
     "name": "stdout",
     "output_type": "stream",
     "text": [
      "LogisticRegression:\n",
      " CV F1-score: 0.7570 (+/- 0.0087)\n",
      " Test Accuracy: 0.7533\n",
      " Test F1-score: 0.7594\n",
      "🏃 View run skillful-sponge-952 at: https://dagshub.com/singhvarunnn789/EAS503.mlflow/#/experiments/2/runs/ce782d451afd44ec9c2187832fea2ba1\n",
      "🧪 View experiment at: https://dagshub.com/singhvarunnn789/EAS503.mlflow/#/experiments/2\n",
      "RidgeClassifier:\n",
      " CV F1-score: 0.7578 (+/- 0.0115)\n",
      " Test Accuracy: 0.7535\n",
      " Test F1-score: 0.7613\n",
      "🏃 View run colorful-lark-880 at: https://dagshub.com/singhvarunnn789/EAS503.mlflow/#/experiments/2/runs/90c6ae5f54a84232a5179d7cdd3b862f\n",
      "🧪 View experiment at: https://dagshub.com/singhvarunnn789/EAS503.mlflow/#/experiments/2\n",
      "RandomForestClassifier:\n",
      " CV F1-score: 0.7414 (+/- 0.0086)\n",
      " Test Accuracy: 0.7387\n",
      " Test F1-score: 0.7453\n",
      "🏃 View run luminous-ape-361 at: https://dagshub.com/singhvarunnn789/EAS503.mlflow/#/experiments/2/runs/f7309d24a54844ce9f9d6c4f0311a410\n",
      "🧪 View experiment at: https://dagshub.com/singhvarunnn789/EAS503.mlflow/#/experiments/2\n",
      "XGBClassifier:\n",
      " CV F1-score: 0.7539 (+/- 0.0085)\n",
      " Test Accuracy: 0.7496\n",
      " Test F1-score: 0.7581\n",
      "🏃 View run traveling-bat-17 at: https://dagshub.com/singhvarunnn789/EAS503.mlflow/#/experiments/2/runs/a10466c64454430dac56fb27b99de109\n",
      "🧪 View experiment at: https://dagshub.com/singhvarunnn789/EAS503.mlflow/#/experiments/2\n",
      "🏃 View run luxuriant-gnat-435 at: https://dagshub.com/singhvarunnn789/EAS503.mlflow/#/experiments/2/runs/322e281ddfd141cbb99970d55eed650f\n",
      "🧪 View experiment at: https://dagshub.com/singhvarunnn789/EAS503.mlflow/#/experiments/2\n",
      "\n",
      "Best model: RidgeClassifier\n",
      "Best F1-score: 0.7613\n"
     ]
    }
   ],
   "source": [
    "best_model = None\n",
    "best_f1 = 0\n",
    "\n",
    "# Set up MLflow for tracking experiments\n",
    "mlflow.set_tracking_uri(\"https://dagshub.com/singhvarunnn789/EAS503.mlflow\")\n",
    "mlflow.set_experiment(\"Feature_Engineering\")\n",
    "\n",
    "with mlflow.start_run():\n",
    "    for name, pipeline in pipelines:\n",
    "        with mlflow.start_run(nested=True):\n",
    "            cv_scores = cross_val_score(pipeline, X_train, y_train, cv=10, scoring='f1')\n",
    "            pipeline.fit(X_train, y_train)\n",
    "            \n",
    "            y_pred = pipeline.predict(X_test)\n",
    "            accuracy = accuracy_score(y_test, y_pred)\n",
    "            f1 = f1_score(y_test, y_pred)\n",
    "            mlflow.log_param(\"model\", name)\n",
    "            if hasattr(pipeline.named_steps['classifier'], \"n_estimators\"):\n",
    "                mlflow.log_param(\"n_estimators\", pipeline.named_steps['classifier'].n_estimators)\n",
    "            \n",
    "            mlflow.log_metric(\"cv_f1_score\", cv_scores.mean())\n",
    "            mlflow.log_metric(\"test_accuracy\", accuracy)\n",
    "            mlflow.log_metric(\"test_f1_score\", f1)\n",
    "\n",
    "            print(f\"{name}:\")\n",
    "            print(f\" CV F1-score: {cv_scores.mean():.4f} (+/- {cv_scores.std() * 2:.4f})\")\n",
    "            print(f\" Test Accuracy: {accuracy:.4f}\")\n",
    "            print(f\" Test F1-score: {f1:.4f}\")\n",
    "\n",
    "            if f1 > best_f1:\n",
    "                best_f1 = f1\n",
    "                best_model = pipeline\n",
    "\n",
    "print(f\"\\nBest model: {type(best_model.named_steps['classifier']).__name__}\")\n",
    "print(f\"Best F1-score: {best_f1:.4f}\")"
   ]
  },
  {
   "cell_type": "markdown",
   "metadata": {},
   "source": [
    "## Saving The Ridge Model as the best model"
   ]
  },
  {
   "cell_type": "code",
   "execution_count": null,
   "metadata": {},
   "outputs": [
    {
     "name": "stdout",
     "output_type": "stream",
     "text": [
      "Columns after feature engineering:\n",
      "['Sex', 'AgeCategory', 'RaceEthnicityCategory', 'HeightInMeters', 'WeightInKilograms', 'BMI', 'GeneralHealth', 'PhysicalHealthDays', 'MentalHealthDays', 'LastCheckupTime', 'PhysicalActivities', 'SleepHours', 'AlcoholDrinkers', 'SmokerStatus', 'ECigaretteUsage', 'HadAsthma', 'HadSkinCancer', 'HadCOPD', 'HadDepressiveDisorder', 'HadKidneyDisease', 'HadArthritis', 'HadDiabetes', 'DeafOrHardOfHearing', 'BlindOrVisionDifficulty', 'DifficultyConcentrating', 'DifficultyWalking', 'DifficultyDressingBathing', 'DifficultyErrands', 'ChestScan', 'HIVTesting', 'FluVaxLast12', 'PneumoVaxEver', 'HighRiskLastYear', 'CovidPos', 'BMI_category', 'Age_BMI_interaction', 'HealthScore', 'LifestyleScore', 'ComorbidityCount', 'CheckedWithinYear']\n",
      "Model saved as 'best_model_ridge.joblib'\n",
      "\n",
      "Preprocessor:\n",
      "ColumnTransformer(transformers=[('num',\n",
      "                                 Pipeline(steps=[('imputer',\n",
      "                                                  SimpleImputer(strategy='median')),\n",
      "                                                 ('scaler', StandardScaler())]),\n",
      "                                 ['HeightInMeters', 'WeightInKilograms', 'BMI',\n",
      "                                  'PhysicalHealthDays', 'MentalHealthDays',\n",
      "                                  'SleepHours', 'Age_BMI_interaction',\n",
      "                                  'HealthScore', 'ComorbidityCount']),\n",
      "                                ('cat',\n",
      "                                 Pipeline(steps=[('imputer',\n",
      "                                                  SimpleImputer(fill_value='missing',\n",
      "                                                                strategy='constant')),\n",
      "                                                 ('onehot',\n",
      "                                                  OneHotEncoder(handle_unknown='ignore'))]),\n",
      "                                 ['Sex', 'AgeCategory', 'RaceEthnicityCategory',\n",
      "                                  'GeneralHealth', 'LastCheckupTime',\n",
      "                                  'SmokerStatus', 'ECigaretteUsage',\n",
      "                                  'BMI_category'])])\n",
      "\n",
      "Numeric Features:\n",
      "['HeightInMeters', 'WeightInKilograms', 'BMI', 'PhysicalHealthDays', 'MentalHealthDays', 'SleepHours', 'Age_BMI_interaction', 'HealthScore', 'ComorbidityCount']\n",
      "\n",
      "Categorical Features:\n",
      "['Sex', 'AgeCategory', 'RaceEthnicityCategory', 'GeneralHealth', 'LastCheckupTime', 'SmokerStatus', 'ECigaretteUsage', 'BMI_category']\n",
      "\n",
      "Example Prediction:\n",
      "Prediction for sample data: True\n"
     ]
    }
   ],
   "source": [
    "# After feature engineering\n",
    "print(\"Columns after feature engineering:\")\n",
    "print(X_engineered.columns.tolist())\n",
    "\n",
    "# Update numeric and categorical features\n",
    "numeric_features = X_engineered.select_dtypes(include=['int64', 'float64']).columns.tolist()\n",
    "categorical_features = X_engineered.select_dtypes(include=['object', 'category']).columns.tolist()\n",
    "\n",
    "# Recreate the preprocessor with updated feature lists\n",
    "preprocessor = ColumnTransformer(\n",
    "    transformers=[\n",
    "        ('num', numeric_transformer, numeric_features),\n",
    "        ('cat', categorical_transformer, categorical_features)\n",
    "    ])\n",
    "\n",
    "# Recreate the RidgeClassifier pipeline\n",
    "ridge_pipeline = ImbPipeline([\n",
    "    ('preprocessor', preprocessor),\n",
    "    ('smote', SMOTE(random_state=42)),\n",
    "    ('classifier', RidgeClassifier(random_state=42))\n",
    "])\n",
    "\n",
    "ridge_pipeline.fit(X_engineered, y)\n",
    "import joblib\n",
    "joblib.dump(ridge_pipeline, 'best_model_ridge.joblib')\n",
    "sample_data = X_engineered.iloc[0].to_dict()\n",
    "sample_df = pd.DataFrame([sample_data])\n",
    "prediction = ridge_pipeline.predict(sample_df)\n"
   ]
  },
  {
   "cell_type": "markdown",
   "metadata": {},
   "source": [
    "### Adding the results of Experiments as a dictionary to a list so we can plot the F1 scores at the end"
   ]
  },
  {
   "cell_type": "code",
   "execution_count": 24,
   "metadata": {},
   "outputs": [],
   "source": [
    "experiment_results = []\n",
    "\n",
    "for name, pipeline in pipelines:\n",
    "    cv_scores = cross_val_score(pipeline, X_train, y_train, cv=10, scoring='f1')\n",
    "    y_pred = pipeline.predict(X_test)\n",
    "    accuracy = accuracy_score(y_test, y_pred)\n",
    "    f1 = f1_score(y_test, y_pred)\n",
    "    \n",
    "    result = {\n",
    "        \"experiment_name\": f\"Experiment 3: {name} with Feature Engineering\",\n",
    "        \"cv_f1_mean\": cv_scores.mean(),\n",
    "        \"cv_f1_std\": cv_scores.std(),\n",
    "        \"test_accuracy\": accuracy,\n",
    "        \"test_f1\": f1\n",
    "    }\n",
    "    experiment_results.append(result)\n",
    "\n",
    "# Add these results to the overall list of experiment results\n",
    "all_experiment_results.extend(experiment_results)\n",
    "\n",
    "# Store the best model information\n",
    "best_model_result = {\n",
    "    \"experiment_name\": f\"Experiment 3: Best Model - {type(best_model.named_steps['classifier']).__name__}\",\n",
    "    \"test_f1\": best_f1,\n",
    "}\n",
    "all_experiment_results.append(best_model_result)"
   ]
  },
  {
   "cell_type": "markdown",
   "metadata": {},
   "source": [
    "## Experiment 4"
   ]
  },
  {
   "cell_type": "markdown",
   "metadata": {},
   "source": [
    "Feature Selection"
   ]
  },
  {
   "cell_type": "code",
   "execution_count": 41,
   "metadata": {},
   "outputs": [
    {
     "name": "stdout",
     "output_type": "stream",
     "text": [
      "Starting feature selection...\n",
      "Feature selection completed.\n"
     ]
    }
   ],
   "source": [
    "import pandas as pd\n",
    "import numpy as np\n",
    "from sklearn.model_selection import train_test_split, cross_val_score\n",
    "from sklearn.preprocessing import StandardScaler, OneHotEncoder\n",
    "from sklearn.impute import SimpleImputer\n",
    "from sklearn.compose import ColumnTransformer\n",
    "from sklearn.ensemble import RandomForestClassifier\n",
    "from sklearn.linear_model import LogisticRegression, RidgeClassifier\n",
    "from xgboost import XGBClassifier\n",
    "from sklearn.metrics import accuracy_score, f1_score, roc_auc_score\n",
    "from imblearn.over_sampling import SMOTE\n",
    "from sklearn.pipeline import Pipeline\n",
    "from sklearn.feature_selection import VarianceThreshold\n",
    "import mlflow\n",
    "\n",
    "class FeatureEngineer:\n",
    "    def __init__(self):\n",
    "        pass\n",
    "\n",
    "    def fit(self, X, y=None):\n",
    "        return self\n",
    "\n",
    "    def transform(self, X):\n",
    "        X = X.copy()\n",
    "        X['BMI_category'] = pd.cut(X['BMI'], bins=[0, 18.5, 25, 30, np.inf], labels=['Underweight', 'Normal', 'Overweight', 'Obese'])\n",
    "        age_map = {'Age 18 to 24': 21, 'Age 25 to 29': 27, 'Age 30 to 34': 32, 'Age 35 to 39': 37,\n",
    "                   'Age 40 to 44': 42, 'Age 45 to 49': 47, 'Age 50 to 54': 52, 'Age 55 to 59': 57,\n",
    "                   'Age 60 to 64': 62, 'Age 65 to 69': 67, 'Age 70 to 74': 72, 'Age 75 to 79': 77,\n",
    "                   'Age 80 or older': 85}\n",
    "        X['Age_BMI_interaction'] = X['AgeCategory'].map(age_map) * X['BMI']\n",
    "        X['HealthScore'] = 30 - (X['PhysicalHealthDays'] + X['MentalHealthDays'])\n",
    "        X['LifestyleScore'] = (\n",
    "            X['PhysicalActivities'].astype(int) +\n",
    "            ((X['SleepHours'] >= 7) & (X['SleepHours'] <= 9)).astype(int) +\n",
    "            (~X['AlcoholDrinkers']).astype(int) +\n",
    "            (X['SmokerStatus'] == 'Never smoked').astype(int)\n",
    "        )\n",
    "        comorbidity_columns = ['HadAsthma', 'HadSkinCancer', 'HadCOPD', \n",
    "                               'HadDepressiveDisorder', 'HadKidneyDisease', \n",
    "                               'HadArthritis', 'HadDiabetes']\n",
    "        X['ComorbidityCount'] = X[comorbidity_columns].sum(axis=1)\n",
    "        X['CheckedWithinYear'] = (X['LastCheckupTime'] == 'Within past year (anytime less than 12 months ago)').astype(int)\n",
    "        return X\n",
    "\n",
    "def correlation_threshold(X, threshold=0.8):\n",
    "    numeric_cols = X.select_dtypes(include=['int64', 'float64']).columns\n",
    "    corr_matrix = X[numeric_cols].corr().abs()\n",
    "    upper = corr_matrix.where(np.triu(np.ones(corr_matrix.shape), k=1).astype(bool))\n",
    "    to_drop = [column for column in upper.columns if any(upper[column] > threshold)]\n",
    "    return X.drop(columns=to_drop)\n",
    "\n",
    "def variance_threshold(X, threshold=0.01):\n",
    "    numeric_cols = X.select_dtypes(include=['int64', 'float64']).columns\n",
    "    selector = VarianceThreshold(threshold)\n",
    "    X_numeric = X[numeric_cols]\n",
    "    selector.fit(X_numeric)\n",
    "    selected_numeric_cols = numeric_cols[selector.get_support()].tolist()\n",
    "    categorical_cols = X.select_dtypes(include=['object', 'category']).columns\n",
    "    selected_cols = selected_numeric_cols + categorical_cols.tolist()\n",
    "    return X[selected_cols]\n",
    "\n",
    "X = df.drop('HadHeartIssues', axis=1)\n",
    "y = df['HadHeartIssues']\n",
    "\n",
    "feature_engineer = FeatureEngineer()\n",
    "X_engineered = feature_engineer.transform(X)\n",
    "\n",
    "print(\"Starting feature selection...\")\n",
    "X_corr = correlation_threshold(X_engineered)\n",
    "X_selected = variance_threshold(X_corr)\n",
    "print(\"Feature selection completed.\")\n",
    "if 'Sex' not in X_selected.columns:\n",
    "    X_selected['Sex'] = X['Sex']\n",
    "\n",
    "X_train, X_test, y_train, y_test = train_test_split(X_selected, y, test_size=0.2, random_state=42)\n",
    "\n",
    "numeric_features = X_train.select_dtypes(include=['int64', 'float64']).columns.tolist()\n",
    "categorical_features = X_train.select_dtypes(include=['object', 'category']).columns.tolist()"
   ]
  },
  {
   "cell_type": "markdown",
   "metadata": {},
   "source": [
    "### Pipelines for pre-processing"
   ]
  },
  {
   "cell_type": "code",
   "execution_count": 42,
   "metadata": {},
   "outputs": [],
   "source": [
    "preprocessor = ColumnTransformer(\n",
    "    transformers=[\n",
    "        ('num', StandardScaler(), numeric_features),\n",
    "        ('cat', OneHotEncoder(handle_unknown='ignore'), categorical_features)\n",
    "    ])"
   ]
  },
  {
   "cell_type": "markdown",
   "metadata": {},
   "source": [
    "### Pipelines for classification algorithms"
   ]
  },
  {
   "cell_type": "code",
   "execution_count": 43,
   "metadata": {},
   "outputs": [],
   "source": [
    "classifiers = [\n",
    "    ('LogisticRegression', LogisticRegression(random_state=42)),\n",
    "    ('RidgeClassifier', RidgeClassifier(random_state=42)),\n",
    "    ('RandomForestClassifier', RandomForestClassifier(class_weight='balanced', random_state=42)),\n",
    "    ('XGBClassifier', XGBClassifier(random_state=42))\n",
    "]"
   ]
  },
  {
   "cell_type": "markdown",
   "metadata": {},
   "source": [
    "### Logging Results in MLFlow"
   ]
  },
  {
   "cell_type": "code",
   "execution_count": 44,
   "metadata": {},
   "outputs": [
    {
     "name": "stdout",
     "output_type": "stream",
     "text": [
      "LogisticRegression:\n",
      " CV F1-score: 0.7570 (+/- 0.0089)\n",
      " Test Accuracy: 0.7534\n",
      " Test F1-score: 0.7595\n",
      "RidgeClassifier:\n",
      " CV F1-score: 0.7579 (+/- 0.0108)\n",
      " Test Accuracy: 0.7539\n",
      " Test F1-score: 0.7618\n",
      "RandomForestClassifier:\n",
      " CV F1-score: 0.7429 (+/- 0.0077)\n",
      " Test Accuracy: 0.7419\n",
      " Test F1-score: 0.7486\n",
      "XGBClassifier:\n",
      " CV F1-score: 0.7536 (+/- 0.0097)\n",
      " Test Accuracy: 0.7526\n",
      " Test F1-score: 0.7614\n",
      "🏃 View run persistent-stoat-949 at: https://dagshub.com/singhvarunnn789/EAS503.mlflow/#/experiments/3/runs/54ed672a3b244f5d9626264aa75e675e\n",
      "🧪 View experiment at: https://dagshub.com/singhvarunnn789/EAS503.mlflow/#/experiments/3\n",
      "Experiment completed.\n"
     ]
    }
   ],
   "source": [
    "mlflow.set_tracking_uri(\"https://dagshub.com/singhvarunnn789/EAS503.mlflow\")\n",
    "mlflow.set_experiment(\"Feature_Selection\")\n",
    "\n",
    "with mlflow.start_run():\n",
    "    mlflow.log_param(\"n_features_original\", X.shape[1])\n",
    "    mlflow.log_param(\"n_features_final\", X_selected.shape[1])\n",
    "    \n",
    "    for name, classifier in classifiers:\n",
    "        pipeline = Pipeline([\n",
    "            ('preprocessor', preprocessor),\n",
    "            ('classifier', classifier)\n",
    "        ])\n",
    "        \n",
    "        cv_scores = cross_val_score(pipeline, X_train, y_train, cv=10, scoring='f1')\n",
    "        pipeline.fit(X_train, y_train)\n",
    "        \n",
    "        y_pred = pipeline.predict(X_test)\n",
    "        accuracy = accuracy_score(y_test, y_pred)\n",
    "        f1 = f1_score(y_test, y_pred)\n",
    "        \n",
    "        mlflow.log_metric(f\"{name}_cv_f1_score\", cv_scores.mean())\n",
    "        mlflow.log_metric(f\"{name}_test_accuracy\", accuracy)\n",
    "        mlflow.log_metric(f\"{name}_test_f1_score\", f1)\n",
    "\n",
    "        print(f\"{name}:\")\n",
    "        print(f\" CV F1-score: {cv_scores.mean():.4f} (+/- {cv_scores.std() * 2:.4f})\")\n",
    "        print(f\" Test Accuracy: {accuracy:.4f}\")\n",
    "        print(f\" Test F1-score: {f1:.4f}\")\n",
    "\n",
    "print(\"Experiment completed.\")"
   ]
  },
  {
   "cell_type": "markdown",
   "metadata": {},
   "source": [
    "### Adding the results of Experiments as a dictionary to a list so we can plot the F1 scores at the end"
   ]
  },
  {
   "cell_type": "code",
   "execution_count": 45,
   "metadata": {},
   "outputs": [],
   "source": [
    "experiment_results = []\n",
    "\n",
    "for name, classifier in classifiers:\n",
    "    pipeline = Pipeline([\n",
    "        ('preprocessor', preprocessor),\n",
    "        ('classifier', classifier)\n",
    "    ])\n",
    "    \n",
    "    cv_scores = cross_val_score(pipeline, X_train, y_train, cv=10, scoring='f1')\n",
    "    pipeline.fit(X_train, y_train)\n",
    "    \n",
    "    y_pred = pipeline.predict(X_test)\n",
    "    accuracy = accuracy_score(y_test, y_pred)\n",
    "    f1 = f1_score(y_test, y_pred)\n",
    "    \n",
    "    result = {\n",
    "        \"experiment_name\": f\"Experiment 4: {name} with Feature Selection\",\n",
    "        \"cv_f1_mean\": cv_scores.mean(),\n",
    "        \"cv_f1_std\": cv_scores.std(),\n",
    "        \"test_accuracy\": accuracy,\n",
    "        \"test_f1\": f1\n",
    "    }\n",
    "    experiment_results.append(result)\n",
    "\n",
    "# Add these results to the overall list of experiment results\n",
    "all_experiment_results.extend(experiment_results)"
   ]
  },
  {
   "cell_type": "code",
   "execution_count": 29,
   "metadata": {},
   "outputs": [
    {
     "name": "stdout",
     "output_type": "stream",
     "text": [
      "[{'experiment_name': 'Experiment 1: Logistic Regression', 'f1_score': 0.5963351709658641, 'confusion_matrix': {'TN': 6511, 'FP': 1630, 'FN': 4696, 'TP': 3418}, 'cv_f1_mean': 0.5143968784013151, 'cv_f1_std': 0.008349098015545535}, {'experiment_name': 'Experiment 2: LogisticRegression', 'cv_f1_mean': 0.4999428588564096, 'cv_f1_std': 0.00874662016728795, 'test_accuracy': 0.6109504767763765, 'test_f1': 0.5932591979685936}, {'experiment_name': 'Experiment 2: RidgeClassifier', 'cv_f1_mean': 0.49318745745559694, 'cv_f1_std': 0.008377266578019512, 'test_accuracy': 0.609781605659797, 'test_f1': 0.5903170171463006}, {'experiment_name': 'Experiment 2: RandomForestClassifier', 'cv_f1_mean': 0.575534316884385, 'cv_f1_std': 0.004390790352801672, 'test_accuracy': 0.5810519840049215, 'test_f1': 0.5809471104388041}, {'experiment_name': 'Experiment 2: XGBClassifier', 'cv_f1_mean': 0.5951801721677257, 'cv_f1_std': 0.006505189170044682, 'test_accuracy': 0.6225776684097201, 'test_f1': 0.6210547722910602}, {'experiment_name': 'Experiment 3: LogisticRegression with Feature Engineering', 'cv_f1_mean': 0.7569901748356858, 'cv_f1_std': 0.004334048344789438, 'test_accuracy': 0.7533066748692709, 'test_f1': 0.7594192464602831}, {'experiment_name': 'Experiment 3: RidgeClassifier with Feature Engineering', 'cv_f1_mean': 0.7577506298886091, 'cv_f1_std': 0.005742904962691456, 'test_accuracy': 0.7534912334666256, 'test_f1': 0.7613318244088392}, {'experiment_name': 'Experiment 3: RandomForestClassifier with Feature Engineering', 'cv_f1_mean': 0.7414216941069476, 'cv_f1_std': 0.0043142351185395155, 'test_accuracy': 0.7387265456782528, 'test_f1': 0.7453378905078851}, {'experiment_name': 'Experiment 3: XGBClassifier with Feature Engineering', 'cv_f1_mean': 0.7538860749081145, 'cv_f1_std': 0.004259417111887184, 'test_accuracy': 0.7496155029221778, 'test_f1': 0.758054928070384}, {'experiment_name': 'Experiment 3: Best Model - RidgeClassifier', 'test_f1': 0.7613318244088392}]\n"
     ]
    }
   ],
   "source": [
    "print(all_experiment_results)"
   ]
  },
  {
   "cell_type": "markdown",
   "metadata": {},
   "source": [
    "## Experiment 5"
   ]
  },
  {
   "cell_type": "markdown",
   "metadata": {},
   "source": [
    "### Pipeline for Pre-processing"
   ]
  },
  {
   "cell_type": "code",
   "execution_count": 30,
   "metadata": {},
   "outputs": [],
   "source": [
    "import pandas as pd\n",
    "import numpy as np\n",
    "from sklearn.model_selection import train_test_split, cross_val_score\n",
    "from sklearn.preprocessing import StandardScaler, OneHotEncoder\n",
    "from sklearn.compose import ColumnTransformer\n",
    "from sklearn.ensemble import RandomForestClassifier\n",
    "from sklearn.linear_model import LogisticRegression, RidgeClassifier\n",
    "from xgboost import XGBClassifier\n",
    "from sklearn.metrics import accuracy_score, f1_score\n",
    "from imblearn.over_sampling import SMOTE\n",
    "from sklearn.pipeline import Pipeline\n",
    "from sklearn.decomposition import PCA\n",
    "import mlflow\n",
    "import matplotlib.pyplot as plt\n",
    "\n",
    "X = df.drop('HadHeartIssues', axis=1)\n",
    "y = df['HadHeartIssues']\n",
    "X_train, X_test, y_train, y_test = train_test_split(X, y, test_size=0.2, random_state=42)\n",
    "\n",
    "# Preprocessing\n",
    "numeric_features = X.select_dtypes(include=['int64', 'float64']).columns\n",
    "categorical_features = X.select_dtypes(include=['object', 'category']).columns\n",
    "\n",
    "preprocessor = ColumnTransformer(\n",
    "    transformers=[\n",
    "        ('num', StandardScaler(), numeric_features),\n",
    "        ('cat', OneHotEncoder(handle_unknown='ignore'), categorical_features)\n",
    "    ])\n",
    "X_preprocessed = preprocessor.fit_transform(X)\n"
   ]
  },
  {
   "cell_type": "markdown",
   "metadata": {},
   "source": [
    "### Setting up PCA and Classification algorithms"
   ]
  },
  {
   "cell_type": "code",
   "execution_count": 31,
   "metadata": {},
   "outputs": [
    {
     "data": {
      "image/png": "[encoded data removed]",
      "text/plain": [
       "<Figure size 1000x600 with 1 Axes>"
      ]
     },
     "metadata": {},
     "output_type": "display_data"
    }
   ],
   "source": [
    "pca = PCA()\n",
    "X_pca = pca.fit_transform(X_preprocessed)\n",
    "\n",
    "# Create scree plot\n",
    "cumulative_variance_ratio = np.cumsum(pca.explained_variance_ratio_)\n",
    "n_components = len(pca.explained_variance_ratio_)\n",
    "\n",
    "plt.figure(figsize=(10, 6))\n",
    "plt.plot(range(1, n_components + 1), cumulative_variance_ratio, 'bo-')\n",
    "plt.xlabel('Number of Components')\n",
    "plt.ylabel('Cumulative Explained Variance Ratio')\n",
    "plt.title('Scree Plot')\n",
    "plt.axhline(y=0.95, color='r', linestyle='--')\n",
    "plt.savefig('scree_plot.png')\n",
    "plt.show()\n",
    "plt.close()\n",
    "\n",
    "# Select number of components that explain 95% of variance\n",
    "n_components_95 = np.argmax(cumulative_variance_ratio >= 0.95) + 1\n",
    "pca_95 = PCA(n_components=n_components_95)\n",
    "X_pca_95 = pca_95.fit_transform(X_preprocessed)\n",
    "X_train, X_test, y_train, y_test = train_test_split(X_pca_95, y, test_size=0.2, random_state=42)\n",
    "smote = SMOTE(random_state=42)\n",
    "X_train_resampled, y_train_resampled = smote.fit_resample(X_train, y_train)\n",
    "\n",
    "classifiers = [\n",
    "    ('LogisticRegression', LogisticRegression(random_state=42)),\n",
    "    ('RidgeClassifier', RidgeClassifier(random_state=42)),\n",
    "    ('RandomForestClassifier', RandomForestClassifier(class_weight='balanced', random_state=42)),\n",
    "    ('XGBClassifier', XGBClassifier(random_state=42))\n",
    "]\n",
    "\n",
    "\n"
   ]
  },
  {
   "cell_type": "markdown",
   "metadata": {},
   "source": [
    "### Logging Results in MLFlow"
   ]
  },
  {
   "cell_type": "code",
   "execution_count": 32,
   "metadata": {},
   "outputs": [
    {
     "name": "stdout",
     "output_type": "stream",
     "text": [
      "LogisticRegression:\n",
      " CV F1-score: 0.7347 (+/- 0.0070)\n",
      " Test Accuracy: 0.7369\n",
      " Test F1-score: 0.7374\n",
      "RidgeClassifier:\n",
      " CV F1-score: 0.7328 (+/- 0.0081)\n",
      " Test Accuracy: 0.7360\n",
      " Test F1-score: 0.7364\n",
      "RandomForestClassifier:\n",
      " CV F1-score: 0.7320 (+/- 0.0109)\n",
      " Test Accuracy: 0.7289\n",
      " Test F1-score: 0.7352\n",
      "XGBClassifier:\n",
      " CV F1-score: 0.7406 (+/- 0.0062)\n",
      " Test Accuracy: 0.7373\n",
      " Test F1-score: 0.7466\n",
      "🏃 View run able-squirrel-364 at: https://dagshub.com/singhvarunnn789/EAS503.mlflow/#/experiments/4/runs/13bcc0e6cd724099a5ea73e4773a0ef2\n",
      "🧪 View experiment at: https://dagshub.com/singhvarunnn789/EAS503.mlflow/#/experiments/4\n",
      "Experiment completed.\n"
     ]
    }
   ],
   "source": [
    "mlflow.set_tracking_uri(\"https://dagshub.com/singhvarunnn789/EAS503.mlflow\")\n",
    "mlflow.set_experiment(\"PCA_Dimensionality_Reduction\")\n",
    "\n",
    "with mlflow.start_run():\n",
    "    mlflow.log_param(\"n_features_original\", X.shape[1])\n",
    "    mlflow.log_param(\"n_components_95\", n_components_95)\n",
    "    mlflow.log_artifact(\"scree_plot.png\")\n",
    "    \n",
    "    for name, classifier in classifiers:\n",
    "        clf = classifier.fit(X_train_resampled, y_train_resampled)\n",
    "        cv_scores = cross_val_score(clf, X_train_resampled, y_train_resampled, cv=5, scoring='f1')\n",
    "        y_pred = clf.predict(X_test)\n",
    "        accuracy = accuracy_score(y_test, y_pred)\n",
    "        f1 = f1_score(y_test, y_pred)\n",
    "        mlflow.log_metric(f\"{name}_cv_f1_score\", cv_scores.mean())\n",
    "        mlflow.log_metric(f\"{name}_test_accuracy\", accuracy)\n",
    "        mlflow.log_metric(f\"{name}_test_f1_score\", f1)\n",
    "        print(f\"{name}:\")\n",
    "        print(f\" CV F1-score: {cv_scores.mean():.4f} (+/- {cv_scores.std() * 2:.4f})\")\n",
    "        print(f\" Test Accuracy: {accuracy:.4f}\")\n",
    "        print(f\" Test F1-score: {f1:.4f}\")\n",
    "print(\"Experiment completed.\")"
   ]
  },
  {
   "cell_type": "markdown",
   "metadata": {},
   "source": [
    "### ### Adding the results of Experiments as a dictionary to a list so we can plot the F1 scores at the end"
   ]
  },
  {
   "cell_type": "code",
   "execution_count": 33,
   "metadata": {},
   "outputs": [
    {
     "name": "stdout",
     "output_type": "stream",
     "text": [
      "Results stored for Experiment 5.\n"
     ]
    }
   ],
   "source": [
    "# Store results for each classifier\n",
    "experiment_results = []\n",
    "\n",
    "for name, classifier in classifiers:\n",
    "    clf = classifier.fit(X_train_resampled, y_train_resampled)\n",
    "    cv_scores = cross_val_score(clf, X_train_resampled, y_train_resampled, cv=5, scoring='f1')\n",
    "    y_pred = clf.predict(X_test)\n",
    "    accuracy = accuracy_score(y_test, y_pred)\n",
    "    f1 = f1_score(y_test, y_pred)\n",
    "\n",
    "    result = {\n",
    "        \"experiment_name\": f\"Experiment 5: {name} with PCA\",\n",
    "        \"cv_f1_mean\": cv_scores.mean(),\n",
    "        \"cv_f1_std\": cv_scores.std(),\n",
    "        \"test_accuracy\": accuracy,\n",
    "        \"test_f1\": f1,\n",
    "    }\n",
    "    experiment_results.append(result)\n",
    "\n",
    "# Add these results to the overall list of experiment results\n",
    "all_experiment_results.extend(experiment_results)\n",
    "\n",
    "print(\"Results stored for Experiment 5.\")\n"
   ]
  },
  {
   "cell_type": "markdown",
   "metadata": {},
   "source": [
    "## Custom Experiment 1"
   ]
  },
  {
   "cell_type": "markdown",
   "metadata": {},
   "source": [
    "This experiment uses a pipeline with preprocessing, feature selection, and a Random Forest classifier. \n",
    "\n",
    "It employs grid search for hyperparameter tuning and Gradient Boosting for feature selection. \n",
    "\n",
    "The pipeline includes StandardScaler for numeric features and OneHotEncoder for categorical features. \n",
    "\n",
    "The experiment uses MLflow to track parameters, metrics, and the best model."
   ]
  },
  {
   "cell_type": "code",
   "execution_count": 34,
   "metadata": {},
   "outputs": [
    {
     "name": "stderr",
     "output_type": "stream",
     "text": [
      "2024/12/20 16:40:05 WARNING mlflow.models.model: Model logged without a signature and input example. Please set `input_example` parameter when logging the model to auto infer the model signature.\n"
     ]
    },
    {
     "name": "stdout",
     "output_type": "stream",
     "text": [
      "Best parameters: {'classifier__max_depth': 10, 'classifier__min_samples_split': 5, 'classifier__n_estimators': 200, 'feature_selection__estimator__max_depth': 3, 'feature_selection__estimator__n_estimators': 100}\n",
      "Accuracy: 0.7347\n",
      "F1-score: 0.7440\n",
      "🏃 View run glamorous-seal-852 at: https://dagshub.com/singhvarunnn789/EAS503.mlflow/#/experiments/5/runs/ba69d46310624cc9adf26931f677a701\n",
      "🧪 View experiment at: https://dagshub.com/singhvarunnn789/EAS503.mlflow/#/experiments/5\n",
      "Custom experiment completed.\n"
     ]
    }
   ],
   "source": [
    "import pandas as pd\n",
    "import numpy as np\n",
    "from sklearn.model_selection import train_test_split, GridSearchCV\n",
    "from sklearn.preprocessing import StandardScaler, OneHotEncoder\n",
    "from sklearn.impute import SimpleImputer\n",
    "from sklearn.compose import ColumnTransformer\n",
    "from sklearn.ensemble import RandomForestClassifier, GradientBoostingClassifier\n",
    "from sklearn.metrics import accuracy_score, f1_score\n",
    "from sklearn.pipeline import Pipeline\n",
    "from sklearn.feature_selection import SelectFromModel\n",
    "import mlflow\n",
    "\n",
    "# Load your dataset\n",
    "X = df.drop('HadHeartIssues', axis=1)\n",
    "y = df['HadHeartIssues']\n",
    "\n",
    "# Split the data\n",
    "X_train, X_test, y_train, y_test = train_test_split(X, y, test_size=0.2, random_state=42)\n",
    "\n",
    "# Identify numeric and categorical columns\n",
    "numeric_features = X.select_dtypes(include=['int64', 'float64']).columns.tolist()\n",
    "categorical_features = X.select_dtypes(include=['object', 'category']).columns.tolist()\n",
    "\n",
    "# Create preprocessing steps\n",
    "preprocessor = ColumnTransformer(\n",
    "    transformers=[\n",
    "        ('num', StandardScaler(), numeric_features),\n",
    "        ('cat', OneHotEncoder(handle_unknown='ignore'), categorical_features)\n",
    "    ])\n",
    "\n",
    "# Create a pipeline with preprocessing, feature selection, and classifier\n",
    "pipeline = Pipeline([\n",
    "    ('preprocessor', preprocessor),\n",
    "    ('feature_selection', SelectFromModel(GradientBoostingClassifier(random_state=42))),\n",
    "    ('classifier', RandomForestClassifier(random_state=42))\n",
    "])\n",
    "\n",
    "# Define hyperparameters to tune\n",
    "param_grid = {\n",
    "    'feature_selection__estimator__n_estimators': [100, 200],\n",
    "    'feature_selection__estimator__max_depth': [3, 5],\n",
    "    'classifier__n_estimators': [100, 200],\n",
    "    'classifier__max_depth': [5, 10],\n",
    "    'classifier__min_samples_split': [2, 5]\n",
    "}\n",
    "\n",
    "# Set up MLflow for tracking experiments\n",
    "mlflow.set_tracking_uri(\"https://dagshub.com/singhvarunnn789/EAS503.mlflow\")\n",
    "mlflow.set_experiment(\"Custom_Experiment_6\")\n",
    "\n",
    "with mlflow.start_run():\n",
    "    # Perform grid search\n",
    "    grid_search = GridSearchCV(pipeline, param_grid, cv=5, scoring='f1', n_jobs=-1)\n",
    "    grid_search.fit(X_train, y_train)\n",
    "\n",
    "    # Get the best model\n",
    "    best_model = grid_search.best_estimator_\n",
    "\n",
    "    # Make predictions\n",
    "    y_pred = best_model.predict(X_test)\n",
    "\n",
    "    # Calculate metrics\n",
    "    accuracy = accuracy_score(y_test, y_pred)\n",
    "    f1 = f1_score(y_test, y_pred)\n",
    "\n",
    "    # Log parameters and metrics\n",
    "    mlflow.log_params(grid_search.best_params_)\n",
    "    mlflow.log_metric(\"accuracy\", accuracy)\n",
    "    mlflow.log_metric(\"f1_score\", f1)\n",
    "\n",
    "    # Log the model\n",
    "    mlflow.sklearn.log_model(best_model, \"best_model\")\n",
    "\n",
    "    print(f\"Best parameters: {grid_search.best_params_}\")\n",
    "    print(f\"Accuracy: {accuracy:.4f}\")\n",
    "    print(f\"F1-score: {f1:.4f}\")\n",
    "\n",
    "print(\"Custom experiment completed.\")\n"
   ]
  },
  {
   "cell_type": "markdown",
   "metadata": {},
   "source": [
    "### Adding the results of Experiments as a dictionary to a list so we can plot the F1 scores at the end"
   ]
  },
  {
   "cell_type": "code",
   "execution_count": 35,
   "metadata": {},
   "outputs": [
    {
     "name": "stdout",
     "output_type": "stream",
     "text": [
      "Results stored for Experiment 6.\n"
     ]
    }
   ],
   "source": [
    "# Store results for the custom experiment\n",
    "experiment_result = {\n",
    "    \"experiment_name\": \"Experiment 6: Custom Pipeline with Feature Selection\",\n",
    "    \"test_accuracy\": accuracy,\n",
    "    \"test_f1\": f1,\n",
    "    \"cv_f1_mean\": grid_search.best_score_,\n",
    "    \"cv_f1_std\": grid_search.cv_results_['std_test_score'][grid_search.best_index_],\n",
    "}\n",
    "all_experiment_results.append(experiment_result)\n",
    "\n",
    "print(\"Results stored for Experiment 6.\")\n"
   ]
  },
  {
   "cell_type": "markdown",
   "metadata": {},
   "source": [
    "## Custom Experiment 2"
   ]
  },
  {
   "cell_type": "markdown",
   "metadata": {},
   "source": [
    "This experiment focuses on ensemble methods and advanced feature engineering. \n",
    "\n",
    "It uses a stacking classifier combining Random Forest and Gradient Boosting, with Logistic Regression as the final estimator. \n",
    "\n",
    "The pipeline includes preprocessing and Bayesian optimization for hyperparameter tuning. \n",
    "\n",
    "The experiment logs results in MLflow."
   ]
  },
  {
   "cell_type": "code",
   "execution_count": 36,
   "metadata": {},
   "outputs": [
    {
     "name": "stderr",
     "output_type": "stream",
     "text": [
      "2024/12/20 16:45:04 WARNING mlflow.models.model: Model logged without a signature and input example. Please set `input_example` parameter when logging the model to auto infer the model signature.\n"
     ]
    },
    {
     "name": "stdout",
     "output_type": "stream",
     "text": [
      "Best parameters: OrderedDict({'classifier__final_estimator__C': 1000.0, 'classifier__gb__n_estimators': 50, 'classifier__rf__n_estimators': 155})\n",
      "Accuracy: 0.7468\n",
      "F1-score: 0.7573\n",
      "🏃 View run caring-sponge-29 at: https://dagshub.com/singhvarunnn789/EAS503.mlflow/#/experiments/6/runs/57bab3379c5a4440a99ddb20a3fa28a4\n",
      "🧪 View experiment at: https://dagshub.com/singhvarunnn789/EAS503.mlflow/#/experiments/6\n",
      "Custom experiment completed.\n"
     ]
    }
   ],
   "source": [
    "import pandas as pd\n",
    "import numpy as np\n",
    "from sklearn.model_selection import train_test_split\n",
    "from sklearn.preprocessing import StandardScaler, OneHotEncoder\n",
    "from sklearn.impute import SimpleImputer\n",
    "from sklearn.compose import ColumnTransformer\n",
    "from sklearn.ensemble import RandomForestClassifier, GradientBoostingClassifier\n",
    "from sklearn.linear_model import LogisticRegression\n",
    "from sklearn.metrics import accuracy_score, f1_score\n",
    "from sklearn.pipeline import Pipeline\n",
    "from sklearn.ensemble import StackingClassifier\n",
    "from skopt import BayesSearchCV\n",
    "import mlflow\n",
    "\n",
    "def create_interaction_features(X):\n",
    "    age_map = {'Age 18 to 24': 21, 'Age 25 to 29': 27, 'Age 30 to 34': 32, 'Age 35 to 39': 37,\n",
    "               'Age 40 to 44': 42, 'Age 45 to 49': 47, 'Age 50 to 54': 52, 'Age 55 to 59': 57,\n",
    "               'Age 60 to 64': 62, 'Age 65 to 69': 67, 'Age 70 to 74': 72, 'Age 75 to 79': 77,\n",
    "               'Age 80 or older': 85}\n",
    "    X['Age'] = X['AgeCategory'].map(age_map)\n",
    "    X['BMI_Age'] = X['BMI'] * X['Age']\n",
    "    X['ComorbidityScore'] = X[['HadAsthma', 'HadSkinCancer', 'HadCOPD', 'HadDepressiveDisorder', \n",
    "                               'HadKidneyDisease', 'HadArthritis', 'HadDiabetes']].sum(axis=1)\n",
    "    return X\n",
    "\n",
    "X = df.drop('HadHeartIssues', axis=1)\n",
    "y = df['HadHeartIssues']\n",
    "\n",
    "X = create_interaction_features(X)\n",
    "\n",
    "# Use a smaller subset of data for faster execution\n",
    "X_sample, _, y_sample, _ = train_test_split(X, y, train_size=0.3, random_state=42)\n",
    "X_train, X_test, y_train, y_test = train_test_split(X_sample, y_sample, test_size=0.2, random_state=42)\n",
    "\n",
    "numeric_features = X.select_dtypes(include=['int64', 'float64']).columns.tolist()\n",
    "categorical_features = X.select_dtypes(include=['object', 'category']).columns.tolist()\n",
    "\n",
    "preprocessor = ColumnTransformer(\n",
    "    transformers=[\n",
    "        ('num', StandardScaler(), numeric_features),\n",
    "        ('cat', OneHotEncoder(handle_unknown='ignore'), categorical_features)\n",
    "    ])\n",
    "\n",
    "base_estimators = [\n",
    "    ('rf', RandomForestClassifier(random_state=42)),\n",
    "    ('gb', GradientBoostingClassifier(random_state=42))\n",
    "]\n",
    "\n",
    "stacking_classifier = StackingClassifier(\n",
    "    estimators=base_estimators,\n",
    "    final_estimator=LogisticRegression(random_state=42),\n",
    "    cv=3\n",
    ")\n",
    "\n",
    "pipeline = Pipeline([\n",
    "    ('preprocessor', preprocessor),\n",
    "    ('classifier', stacking_classifier)\n",
    "])\n",
    "\n",
    "param_space = {\n",
    "    'classifier__rf__n_estimators': (50, 200),\n",
    "    'classifier__gb__n_estimators': (50, 200),\n",
    "    'classifier__final_estimator__C': (1e-3, 1e3, 'log-uniform')\n",
    "}\n",
    "\n",
    "bayes_search = BayesSearchCV(\n",
    "    pipeline, param_space, n_iter=20, cv=3, scoring='f1', random_state=42, n_jobs=-1\n",
    ")\n",
    "\n",
    "mlflow.set_tracking_uri(\"https://dagshub.com/singhvarunnn789/EAS503.mlflow\")\n",
    "mlflow.set_experiment(\"Custom_Experiment_7\")\n",
    "\n",
    "with mlflow.start_run():\n",
    "    bayes_search.fit(X_train, y_train)\n",
    "    \n",
    "    best_model = bayes_search.best_estimator_\n",
    "    y_pred = best_model.predict(X_test)\n",
    "    \n",
    "    accuracy = accuracy_score(y_test, y_pred)\n",
    "    f1 = f1_score(y_test, y_pred)\n",
    "    \n",
    "    mlflow.log_params(bayes_search.best_params_)\n",
    "    mlflow.log_metric(\"accuracy\", accuracy)\n",
    "    mlflow.log_metric(\"f1_score\", f1)\n",
    "    mlflow.sklearn.log_model(best_model, \"best_model\")\n",
    "    \n",
    "    print(f\"Best parameters: {bayes_search.best_params_}\")\n",
    "    print(f\"Accuracy: {accuracy:.4f}\")\n",
    "    print(f\"F1-score: {f1:.4f}\")\n",
    "\n",
    "print(\"Custom experiment completed.\")\n"
   ]
  },
  {
   "cell_type": "markdown",
   "metadata": {},
   "source": [
    "### Adding the results of Experiments as a dictionary to a list so we can plot the F1 scores at the end"
   ]
  },
  {
   "cell_type": "code",
   "execution_count": 37,
   "metadata": {},
   "outputs": [
    {
     "name": "stdout",
     "output_type": "stream",
     "text": [
      "Results stored for Experiment 7.\n"
     ]
    }
   ],
   "source": [
    "# Store results for the custom experiment\n",
    "experiment_result = {\n",
    "    \"experiment_name\": \"Experiment 7: Stacking Classifier with Bayesian Optimization\",\n",
    "    \"test_accuracy\": accuracy,\n",
    "    \"test_f1\": f1,\n",
    "    \"cv_f1_mean\": bayes_search.best_score_,\n",
    "}\n",
    "\n",
    "# Add this result to the overall list of experiment results\n",
    "all_experiment_results.append(experiment_result)\n",
    "\n",
    "print(\"Results stored for Experiment 7.\")"
   ]
  },
  {
   "cell_type": "markdown",
   "metadata": {},
   "source": [
    "# Creating F1 Score Plots"
   ]
  },
  {
   "cell_type": "code",
   "execution_count": 47,
   "metadata": {},
   "outputs": [
    {
     "data": {
      "image/png": "[encoded data removed]",
      "text/plain": [
       "<Figure size 1400x700 with 1 Axes>"
      ]
     },
     "metadata": {},
     "output_type": "display_data"
    }
   ],
   "source": [
    "import matplotlib.pyplot as plt\n",
    "\n",
    "# Extract experiment names, F1 scores, and accuracy scores, handling missing keys\n",
    "def get_metric(result, key):\n",
    "    return result.get(key, None)\n",
    "\n",
    "experiment_names = [result['experiment_name'] for result in all_experiment_results]\n",
    "f1_scores = [get_metric(result, 'test_f1') or get_metric(result, 'f1_score') for result in all_experiment_results]\n",
    "accuracy_scores = [get_metric(result, 'test_accuracy') for result in all_experiment_results]\n",
    "\n",
    "# Filter out None values for plotting\n",
    "valid_indices = [i for i, f1 in enumerate(f1_scores) if f1 is not None and accuracy_scores[i] is not None]\n",
    "experiment_names = [experiment_names[i] for i in valid_indices]\n",
    "f1_scores = [f1_scores[i] for i in valid_indices]\n",
    "accuracy_scores = [accuracy_scores[i] for i in valid_indices]\n",
    "\n",
    "# Create the bar plot\n",
    "plt.figure(figsize=(14, 7))\n",
    "x = range(len(experiment_names))\n",
    "plt.bar(x, f1_scores, width=0.4, label='F1 Score', color='blue', align='center')\n",
    "plt.bar(x, accuracy_scores, width=0.4, label='Accuracy', color='orange', align='edge')\n",
    "\n",
    "# Add labels and title\n",
    "plt.xticks(x, experiment_names, rotation=45, ha='right')\n",
    "plt.xlabel('Experiment')\n",
    "plt.ylabel('Score')\n",
    "plt.title('F1 Scores and Accuracy for Each Experiment')\n",
    "plt.legend()\n",
    "\n",
    "# Adjust layout and show the plot\n",
    "plt.tight_layout()\n",
    "plt.show()\n"
   ]
  }
 ],
 "metadata": {
  "kernelspec": {
   "display_name": "Python (projects)",
   "language": "python",
   "name": "projects"
  },
  "language_info": {
   "codemirror_mode": {
    "name": "ipython",
    "version": 3
   },
   "file_extension": ".py",
   "mimetype": "text/x-python",
   "name": "python",
   "nbconvert_exporter": "python",
   "pygments_lexer": "ipython3",
   "version": "3.12.8"
  }
 },
 "nbformat": 4,
 "nbformat_minor": 2
}
